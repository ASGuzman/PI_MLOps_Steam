{
 "cells": [
  {
   "cell_type": "markdown",
   "metadata": {},
   "source": [
    "## Creacion de DataFrames auxiliares"
   ]
  },
  {
   "cell_type": "markdown",
   "metadata": {},
   "source": [
    "En este notebook vamos a crear los data frames auxiliares que tendremos que usar para las funciones que vamos a desarrollar "
   ]
  },
  {
   "cell_type": "markdown",
   "metadata": {},
   "source": [
    "### Cargamos las librerias necesarias"
   ]
  },
  {
   "cell_type": "code",
   "execution_count": 25,
   "metadata": {},
   "outputs": [],
   "source": [
    "import pandas as pd\n",
    "import pyarrow as pa\n",
    "import pyarrow.parquet as pq\n",
    "import warnings\n",
    "warnings.filterwarnings(\"ignore\")"
   ]
  },
  {
   "cell_type": "markdown",
   "metadata": {},
   "source": [
    "### Cargamos los CSV necesarios para extraer la informacion necesaria"
   ]
  },
  {
   "cell_type": "code",
   "execution_count": 26,
   "metadata": {},
   "outputs": [],
   "source": [
    "df_reviews = pd.read_csv(\"data2/user_reviews_limpio7.csv\", encoding=\"utf-8\")\n",
    "df_output = pd.read_csv(\"data2/output_steam_games_limpio8.csv\", encoding=\"utf-8\")\n",
    "df_items = pd.read_csv(\"data2/user_items_limpio5.csv\", encoding=\"utf-8\")"
   ]
  },
  {
   "cell_type": "code",
   "execution_count": 4,
   "metadata": {},
   "outputs": [
    {
     "data": {
      "text/plain": [
       "Index(['user_id', 'items_count', 'item_id', 'item_name', 'playtime_forever'], dtype='object')"
      ]
     },
     "execution_count": 4,
     "metadata": {},
     "output_type": "execute_result"
    }
   ],
   "source": [
    "df_items.columns"
   ]
  },
  {
   "cell_type": "code",
   "execution_count": 5,
   "metadata": {},
   "outputs": [
    {
     "data": {
      "text/plain": [
       "Index(['user_id', 'item_id', 'recommend', 'year_posted', 'sentiment_analysis'], dtype='object')"
      ]
     },
     "execution_count": 5,
     "metadata": {},
     "output_type": "execute_result"
    }
   ],
   "source": [
    "df_reviews.columns"
   ]
  },
  {
   "cell_type": "code",
   "execution_count": 6,
   "metadata": {},
   "outputs": [
    {
     "data": {
      "text/plain": [
       "Index(['app_name', 'id', 'developer', 'price_number', 'release_year',\n",
       "       'main_genre'],\n",
       "      dtype='object')"
      ]
     },
     "execution_count": 6,
     "metadata": {},
     "output_type": "execute_result"
    }
   ],
   "source": [
    "df_output.columns"
   ]
  },
  {
   "cell_type": "code",
   "execution_count": 32,
   "metadata": {},
   "outputs": [
    {
     "data": {
      "text/html": [
       "<div>\n",
       "<style scoped>\n",
       "    .dataframe tbody tr th:only-of-type {\n",
       "        vertical-align: middle;\n",
       "    }\n",
       "\n",
       "    .dataframe tbody tr th {\n",
       "        vertical-align: top;\n",
       "    }\n",
       "\n",
       "    .dataframe thead th {\n",
       "        text-align: right;\n",
       "    }\n",
       "</style>\n",
       "<table border=\"1\" class=\"dataframe\">\n",
       "  <thead>\n",
       "    <tr style=\"text-align: right;\">\n",
       "      <th></th>\n",
       "      <th>user_id</th>\n",
       "      <th>items_count</th>\n",
       "      <th>item_id</th>\n",
       "      <th>item_name</th>\n",
       "      <th>playtime_forever</th>\n",
       "      <th>playtime_hour</th>\n",
       "    </tr>\n",
       "  </thead>\n",
       "  <tbody>\n",
       "    <tr>\n",
       "      <th>0</th>\n",
       "      <td>76561197970982479</td>\n",
       "      <td>277</td>\n",
       "      <td>20</td>\n",
       "      <td>Team Fortress Classic</td>\n",
       "      <td>0.0</td>\n",
       "      <td>0.000000</td>\n",
       "    </tr>\n",
       "    <tr>\n",
       "      <th>1</th>\n",
       "      <td>76561197970982479</td>\n",
       "      <td>277</td>\n",
       "      <td>30</td>\n",
       "      <td>Day of Defeat</td>\n",
       "      <td>7.0</td>\n",
       "      <td>0.116667</td>\n",
       "    </tr>\n",
       "    <tr>\n",
       "      <th>2</th>\n",
       "      <td>76561197970982479</td>\n",
       "      <td>277</td>\n",
       "      <td>40</td>\n",
       "      <td>Deathmatch Classic</td>\n",
       "      <td>0.0</td>\n",
       "      <td>0.000000</td>\n",
       "    </tr>\n",
       "    <tr>\n",
       "      <th>3</th>\n",
       "      <td>76561197970982479</td>\n",
       "      <td>277</td>\n",
       "      <td>60</td>\n",
       "      <td>Ricochet</td>\n",
       "      <td>0.0</td>\n",
       "      <td>0.000000</td>\n",
       "    </tr>\n",
       "    <tr>\n",
       "      <th>4</th>\n",
       "      <td>76561197970982479</td>\n",
       "      <td>277</td>\n",
       "      <td>3830</td>\n",
       "      <td>Psychonauts</td>\n",
       "      <td>333.0</td>\n",
       "      <td>5.550000</td>\n",
       "    </tr>\n",
       "    <tr>\n",
       "      <th>...</th>\n",
       "      <td>...</td>\n",
       "      <td>...</td>\n",
       "      <td>...</td>\n",
       "      <td>...</td>\n",
       "      <td>...</td>\n",
       "      <td>...</td>\n",
       "    </tr>\n",
       "    <tr>\n",
       "      <th>3002796</th>\n",
       "      <td>76561198329548331</td>\n",
       "      <td>7</td>\n",
       "      <td>304930</td>\n",
       "      <td>Unturned</td>\n",
       "      <td>677.0</td>\n",
       "      <td>11.283333</td>\n",
       "    </tr>\n",
       "    <tr>\n",
       "      <th>3002797</th>\n",
       "      <td>76561198329548331</td>\n",
       "      <td>7</td>\n",
       "      <td>346330</td>\n",
       "      <td>BrainBread 2</td>\n",
       "      <td>0.0</td>\n",
       "      <td>0.000000</td>\n",
       "    </tr>\n",
       "    <tr>\n",
       "      <th>3002798</th>\n",
       "      <td>76561198329548331</td>\n",
       "      <td>7</td>\n",
       "      <td>373330</td>\n",
       "      <td>All Is Dust</td>\n",
       "      <td>0.0</td>\n",
       "      <td>0.000000</td>\n",
       "    </tr>\n",
       "    <tr>\n",
       "      <th>3002799</th>\n",
       "      <td>76561198329548331</td>\n",
       "      <td>7</td>\n",
       "      <td>521570</td>\n",
       "      <td>You Have 10 Seconds 2</td>\n",
       "      <td>4.0</td>\n",
       "      <td>0.066667</td>\n",
       "    </tr>\n",
       "    <tr>\n",
       "      <th>3002800</th>\n",
       "      <td>76561198329548331</td>\n",
       "      <td>7</td>\n",
       "      <td>519140</td>\n",
       "      <td>Minds Eyes</td>\n",
       "      <td>3.0</td>\n",
       "      <td>0.050000</td>\n",
       "    </tr>\n",
       "  </tbody>\n",
       "</table>\n",
       "<p>3002801 rows × 6 columns</p>\n",
       "</div>"
      ],
      "text/plain": [
       "                   user_id  items_count  item_id              item_name  \\\n",
       "0        76561197970982479          277       20  Team Fortress Classic   \n",
       "1        76561197970982479          277       30          Day of Defeat   \n",
       "2        76561197970982479          277       40     Deathmatch Classic   \n",
       "3        76561197970982479          277       60               Ricochet   \n",
       "4        76561197970982479          277     3830            Psychonauts   \n",
       "...                    ...          ...      ...                    ...   \n",
       "3002796  76561198329548331            7   304930               Unturned   \n",
       "3002797  76561198329548331            7   346330           BrainBread 2   \n",
       "3002798  76561198329548331            7   373330            All Is Dust   \n",
       "3002799  76561198329548331            7   521570  You Have 10 Seconds 2   \n",
       "3002800  76561198329548331            7   519140             Minds Eyes   \n",
       "\n",
       "         playtime_forever  playtime_hour  \n",
       "0                     0.0       0.000000  \n",
       "1                     7.0       0.116667  \n",
       "2                     0.0       0.000000  \n",
       "3                     0.0       0.000000  \n",
       "4                   333.0       5.550000  \n",
       "...                   ...            ...  \n",
       "3002796             677.0      11.283333  \n",
       "3002797               0.0       0.000000  \n",
       "3002798               0.0       0.000000  \n",
       "3002799               4.0       0.066667  \n",
       "3002800               3.0       0.050000  \n",
       "\n",
       "[3002801 rows x 6 columns]"
      ]
     },
     "execution_count": 32,
     "metadata": {},
     "output_type": "execute_result"
    }
   ],
   "source": [
    "df_items[\"playtime_hour\"]= df_items[\"playtime_forever\"]/60\n",
    "df_items"
   ]
  },
  {
   "cell_type": "markdown",
   "metadata": {},
   "source": [
    "### Funcion PlayTimeGenre\n",
    "En este caso nos piden una funcion que devuelva el año con mas horas jugadas para un genero especificado, por lo que seran necesarias las columnas main_genre, id y Release_year de df_output y la columna playtime_forever e item_id de df_items"
   ]
  },
  {
   "cell_type": "code",
   "execution_count": 13,
   "metadata": {},
   "outputs": [
    {
     "data": {
      "text/html": [
       "<div>\n",
       "<style scoped>\n",
       "    .dataframe tbody tr th:only-of-type {\n",
       "        vertical-align: middle;\n",
       "    }\n",
       "\n",
       "    .dataframe tbody tr th {\n",
       "        vertical-align: top;\n",
       "    }\n",
       "\n",
       "    .dataframe thead th {\n",
       "        text-align: right;\n",
       "    }\n",
       "</style>\n",
       "<table border=\"1\" class=\"dataframe\">\n",
       "  <thead>\n",
       "    <tr style=\"text-align: right;\">\n",
       "      <th></th>\n",
       "      <th>main_genre</th>\n",
       "      <th>release_year</th>\n",
       "      <th>playtime_hour</th>\n",
       "    </tr>\n",
       "  </thead>\n",
       "  <tbody>\n",
       "    <tr>\n",
       "      <th>0</th>\n",
       "      <td>Action</td>\n",
       "      <td>1984</td>\n",
       "      <td>6.400000</td>\n",
       "    </tr>\n",
       "    <tr>\n",
       "      <th>1</th>\n",
       "      <td>Action</td>\n",
       "      <td>1990</td>\n",
       "      <td>313.116667</td>\n",
       "    </tr>\n",
       "    <tr>\n",
       "      <th>2</th>\n",
       "      <td>Action</td>\n",
       "      <td>1991</td>\n",
       "      <td>19.116667</td>\n",
       "    </tr>\n",
       "    <tr>\n",
       "      <th>3</th>\n",
       "      <td>Action</td>\n",
       "      <td>1992</td>\n",
       "      <td>12.683333</td>\n",
       "    </tr>\n",
       "    <tr>\n",
       "      <th>4</th>\n",
       "      <td>Action</td>\n",
       "      <td>1993</td>\n",
       "      <td>33.700000</td>\n",
       "    </tr>\n",
       "    <tr>\n",
       "      <th>...</th>\n",
       "      <td>...</td>\n",
       "      <td>...</td>\n",
       "      <td>...</td>\n",
       "    </tr>\n",
       "    <tr>\n",
       "      <th>232</th>\n",
       "      <td>Utilities</td>\n",
       "      <td>2016</td>\n",
       "      <td>1305.183333</td>\n",
       "    </tr>\n",
       "    <tr>\n",
       "      <th>233</th>\n",
       "      <td>Video Production</td>\n",
       "      <td>2015</td>\n",
       "      <td>0.000000</td>\n",
       "    </tr>\n",
       "    <tr>\n",
       "      <th>234</th>\n",
       "      <td>Web Publishing</td>\n",
       "      <td>2005</td>\n",
       "      <td>1564.116667</td>\n",
       "    </tr>\n",
       "    <tr>\n",
       "      <th>235</th>\n",
       "      <td>Web Publishing</td>\n",
       "      <td>2015</td>\n",
       "      <td>3.100000</td>\n",
       "    </tr>\n",
       "    <tr>\n",
       "      <th>236</th>\n",
       "      <td>Web Publishing</td>\n",
       "      <td>2016</td>\n",
       "      <td>0.000000</td>\n",
       "    </tr>\n",
       "  </tbody>\n",
       "</table>\n",
       "<p>237 rows × 3 columns</p>\n",
       "</div>"
      ],
      "text/plain": [
       "           main_genre  release_year  playtime_hour\n",
       "0              Action          1984       6.400000\n",
       "1              Action          1990     313.116667\n",
       "2              Action          1991      19.116667\n",
       "3              Action          1992      12.683333\n",
       "4              Action          1993      33.700000\n",
       "..                ...           ...            ...\n",
       "232         Utilities          2016    1305.183333\n",
       "233  Video Production          2015       0.000000\n",
       "234    Web Publishing          2005    1564.116667\n",
       "235    Web Publishing          2015       3.100000\n",
       "236    Web Publishing          2016       0.000000\n",
       "\n",
       "[237 rows x 3 columns]"
      ]
     },
     "execution_count": 13,
     "metadata": {},
     "output_type": "execute_result"
    }
   ],
   "source": [
    "df_output2 = df_output[[\"main_genre\", \"release_year\",\"id\"]]\n",
    "df_items2 = df_items[[\"playtime_hour\", \"item_id\"]]\n",
    "df_PlayTimeGenre_merge = pd.merge(df_items2, df_output2, left_on='item_id', right_on=\"id\")\n",
    "df_PlayTimeGenre_hour = df_PlayTimeGenre_merge.groupby([\"main_genre\", \"release_year\"])[\"playtime_hour\"].sum().reset_index()\n",
    "df_PlayTimeGenre_hour"
   ]
  },
  {
   "cell_type": "code",
   "execution_count": 12,
   "metadata": {},
   "outputs": [
    {
     "data": {
      "text/html": [
       "<div>\n",
       "<style scoped>\n",
       "    .dataframe tbody tr th:only-of-type {\n",
       "        vertical-align: middle;\n",
       "    }\n",
       "\n",
       "    .dataframe tbody tr th {\n",
       "        vertical-align: top;\n",
       "    }\n",
       "\n",
       "    .dataframe thead th {\n",
       "        text-align: right;\n",
       "    }\n",
       "</style>\n",
       "<table border=\"1\" class=\"dataframe\">\n",
       "  <thead>\n",
       "    <tr style=\"text-align: right;\">\n",
       "      <th></th>\n",
       "      <th>main_genre</th>\n",
       "      <th>release_year</th>\n",
       "      <th>playtime_forever</th>\n",
       "    </tr>\n",
       "  </thead>\n",
       "  <tbody>\n",
       "    <tr>\n",
       "      <th>0</th>\n",
       "      <td>Action</td>\n",
       "      <td>1984</td>\n",
       "      <td>384.0</td>\n",
       "    </tr>\n",
       "    <tr>\n",
       "      <th>1</th>\n",
       "      <td>Action</td>\n",
       "      <td>1990</td>\n",
       "      <td>18787.0</td>\n",
       "    </tr>\n",
       "    <tr>\n",
       "      <th>2</th>\n",
       "      <td>Action</td>\n",
       "      <td>1991</td>\n",
       "      <td>1147.0</td>\n",
       "    </tr>\n",
       "    <tr>\n",
       "      <th>3</th>\n",
       "      <td>Action</td>\n",
       "      <td>1992</td>\n",
       "      <td>761.0</td>\n",
       "    </tr>\n",
       "    <tr>\n",
       "      <th>4</th>\n",
       "      <td>Action</td>\n",
       "      <td>1993</td>\n",
       "      <td>2022.0</td>\n",
       "    </tr>\n",
       "    <tr>\n",
       "      <th>...</th>\n",
       "      <td>...</td>\n",
       "      <td>...</td>\n",
       "      <td>...</td>\n",
       "    </tr>\n",
       "    <tr>\n",
       "      <th>232</th>\n",
       "      <td>Utilities</td>\n",
       "      <td>2016</td>\n",
       "      <td>78311.0</td>\n",
       "    </tr>\n",
       "    <tr>\n",
       "      <th>233</th>\n",
       "      <td>Video Production</td>\n",
       "      <td>2015</td>\n",
       "      <td>0.0</td>\n",
       "    </tr>\n",
       "    <tr>\n",
       "      <th>234</th>\n",
       "      <td>Web Publishing</td>\n",
       "      <td>2005</td>\n",
       "      <td>93847.0</td>\n",
       "    </tr>\n",
       "    <tr>\n",
       "      <th>235</th>\n",
       "      <td>Web Publishing</td>\n",
       "      <td>2015</td>\n",
       "      <td>186.0</td>\n",
       "    </tr>\n",
       "    <tr>\n",
       "      <th>236</th>\n",
       "      <td>Web Publishing</td>\n",
       "      <td>2016</td>\n",
       "      <td>0.0</td>\n",
       "    </tr>\n",
       "  </tbody>\n",
       "</table>\n",
       "<p>237 rows × 3 columns</p>\n",
       "</div>"
      ],
      "text/plain": [
       "           main_genre  release_year  playtime_forever\n",
       "0              Action          1984             384.0\n",
       "1              Action          1990           18787.0\n",
       "2              Action          1991            1147.0\n",
       "3              Action          1992             761.0\n",
       "4              Action          1993            2022.0\n",
       "..                ...           ...               ...\n",
       "232         Utilities          2016           78311.0\n",
       "233  Video Production          2015               0.0\n",
       "234    Web Publishing          2005           93847.0\n",
       "235    Web Publishing          2015             186.0\n",
       "236    Web Publishing          2016               0.0\n",
       "\n",
       "[237 rows x 3 columns]"
      ]
     },
     "execution_count": 12,
     "metadata": {},
     "output_type": "execute_result"
    }
   ],
   "source": [
    "df_output2_ = df_output[[\"main_genre\", \"release_year\",\"id\"]]\n",
    "df_items2_ = df_items[[\"playtime_forever\", \"item_id\"]]\n",
    "df_PlayTimeGenre_merge_ = pd.merge(df_items2_, df_output2_, left_on='item_id', right_on=\"id\")\n",
    "df_PlayTimeGenre_forever = df_PlayTimeGenre_merge_.groupby([\"main_genre\", \"release_year\"])[\"playtime_forever\"].sum().reset_index()\n",
    "df_PlayTimeGenre_forever"
   ]
  },
  {
   "cell_type": "code",
   "execution_count": 14,
   "metadata": {},
   "outputs": [
    {
     "name": "stdout",
     "output_type": "stream",
     "text": [
      "Se guardó el archivo data2/df_PlayTimeGenre_hour.csv\n"
     ]
    }
   ],
   "source": [
    "archivo_limpio = \"data2/df_PlayTimeGenre_hour.csv\"\n",
    "df_PlayTimeGenre_hour.to_csv(archivo_limpio, index=False, encoding=\"utf-8\")\n",
    "print(f\"Se guardó el archivo {archivo_limpio}\") "
   ]
  },
  {
   "cell_type": "code",
   "execution_count": 15,
   "metadata": {},
   "outputs": [
    {
     "name": "stdout",
     "output_type": "stream",
     "text": [
      "Se guardó el archivo Datasets/df_PlayTimeGenre_hour.parquet\n"
     ]
    }
   ],
   "source": [
    "archivo_limpio2 = \"Datasets/df_PlayTimeGenre_hour.parquet\"\n",
    "df_PlayTimeGenre_hour.to_parquet(archivo_limpio2, index=False)\n",
    "print(f\"Se guardó el archivo {archivo_limpio2}\")"
   ]
  },
  {
   "cell_type": "code",
   "execution_count": 16,
   "metadata": {},
   "outputs": [
    {
     "name": "stdout",
     "output_type": "stream",
     "text": [
      "Se guardó el archivo data2/df_PlayTimeGenre_forever.csv\n"
     ]
    }
   ],
   "source": [
    "archivo_limpio3 = \"data2/df_PlayTimeGenre_forever.csv\"\n",
    "df_PlayTimeGenre_forever.to_csv(archivo_limpio3, index=False, encoding=\"utf-8\")\n",
    "print(f\"Se guardó el archivo {archivo_limpio3}\") "
   ]
  },
  {
   "cell_type": "code",
   "execution_count": 17,
   "metadata": {},
   "outputs": [
    {
     "name": "stdout",
     "output_type": "stream",
     "text": [
      "Se guardó el archivo Datasets/df_PlayTimeGenre_forever.parquet\n"
     ]
    }
   ],
   "source": [
    "archivo_limpio4 = \"Datasets/df_PlayTimeGenre_forever.parquet\"\n",
    "df_PlayTimeGenre_forever.to_parquet(archivo_limpio4, index=False)\n",
    "print(f\"Se guardó el archivo {archivo_limpio4}\")"
   ]
  },
  {
   "cell_type": "markdown",
   "metadata": {},
   "source": [
    "### Funcion UserForGenre\n",
    "En este caso nos piden una funcion que devuelva el usuario que acumula más horas jugadas para el género dado y una lista de la acumulación de horas jugadas por año, por lo que seran necesarias las columnas  Genre y Release_year de df_output y las columnas playtime_forever y user_id de df_items"
   ]
  },
  {
   "cell_type": "code",
   "execution_count": 36,
   "metadata": {},
   "outputs": [
    {
     "ename": "MergeError",
     "evalue": "Merge keys are not unique in either left or right dataset; not a one-to-one merge",
     "output_type": "error",
     "traceback": [
      "\u001b[1;31m---------------------------------------------------------------------------\u001b[0m",
      "\u001b[1;31mMergeError\u001b[0m                                Traceback (most recent call last)",
      "\u001b[1;32mc:\\Users\\aylen\\OneDrive\\Escritorio\\EV FINAL\\DataFrames_Auxiliares.ipynb Cell 19\u001b[0m line \u001b[0;36m5\n\u001b[0;32m      <a href='vscode-notebook-cell:/c%3A/Users/aylen/OneDrive/Escritorio/EV%20FINAL/DataFrames_Auxiliares.ipynb#X23sZmlsZQ%3D%3D?line=1'>2</a>\u001b[0m df_reviews_filtrado \u001b[39m=\u001b[39m df_reviews[[\u001b[39m\"\u001b[39m\u001b[39muser_id\u001b[39m\u001b[39m\"\u001b[39m,\u001b[39m\"\u001b[39m\u001b[39mitem_id\u001b[39m\u001b[39m\"\u001b[39m,\u001b[39m\"\u001b[39m\u001b[39myear_posted\u001b[39m\u001b[39m\"\u001b[39m]]\n\u001b[0;32m      <a href='vscode-notebook-cell:/c%3A/Users/aylen/OneDrive/Escritorio/EV%20FINAL/DataFrames_Auxiliares.ipynb#X23sZmlsZQ%3D%3D?line=2'>3</a>\u001b[0m df_output_filtrado \u001b[39m=\u001b[39m df_output[[\u001b[39m\"\u001b[39m\u001b[39mid\u001b[39m\u001b[39m\"\u001b[39m,\u001b[39m\"\u001b[39m\u001b[39mmain_genre\u001b[39m\u001b[39m\"\u001b[39m]]\n\u001b[1;32m----> <a href='vscode-notebook-cell:/c%3A/Users/aylen/OneDrive/Escritorio/EV%20FINAL/DataFrames_Auxiliares.ipynb#X23sZmlsZQ%3D%3D?line=4'>5</a>\u001b[0m df_merged \u001b[39m=\u001b[39m pd\u001b[39m.\u001b[39;49mmerge(df_items_filtrado, df_reviews_filtrado, on\u001b[39m=\u001b[39;49m\u001b[39m\"\u001b[39;49m\u001b[39mitem_id\u001b[39;49m\u001b[39m\"\u001b[39;49m, validate\u001b[39m=\u001b[39;49m\u001b[39m\"\u001b[39;49m\u001b[39mone_to_one\u001b[39;49m\u001b[39m\"\u001b[39;49m)\n\u001b[0;32m      <a href='vscode-notebook-cell:/c%3A/Users/aylen/OneDrive/Escritorio/EV%20FINAL/DataFrames_Auxiliares.ipynb#X23sZmlsZQ%3D%3D?line=5'>6</a>\u001b[0m df_merged \u001b[39m=\u001b[39m pd\u001b[39m.\u001b[39mmerge(df_merged, df_output_filtrado, left_on\u001b[39m=\u001b[39m\u001b[39m\"\u001b[39m\u001b[39mitem_id\u001b[39m\u001b[39m\"\u001b[39m, right_on\u001b[39m=\u001b[39m\u001b[39m\"\u001b[39m\u001b[39mid\u001b[39m\u001b[39m\"\u001b[39m)\n\u001b[0;32m      <a href='vscode-notebook-cell:/c%3A/Users/aylen/OneDrive/Escritorio/EV%20FINAL/DataFrames_Auxiliares.ipynb#X23sZmlsZQ%3D%3D?line=7'>8</a>\u001b[0m df_user_genre_hours \u001b[39m=\u001b[39m df_merged\u001b[39m.\u001b[39mgroupby([\u001b[39m'\u001b[39m\u001b[39muser_id\u001b[39m\u001b[39m'\u001b[39m, \u001b[39m'\u001b[39m\u001b[39mmain_genre\u001b[39m\u001b[39m'\u001b[39m, \u001b[39m'\u001b[39m\u001b[39myear_posted\u001b[39m\u001b[39m'\u001b[39m])[\u001b[39m'\u001b[39m\u001b[39mplaytime_hour\u001b[39m\u001b[39m'\u001b[39m]\u001b[39m.\u001b[39msum()\u001b[39m.\u001b[39mreset_index()\n",
      "File \u001b[1;32m~\\AppData\\Local\\Packages\\PythonSoftwareFoundation.Python.3.11_qbz5n2kfra8p0\\LocalCache\\local-packages\\Python311\\site-packages\\pandas\\core\\reshape\\merge.py:169\u001b[0m, in \u001b[0;36mmerge\u001b[1;34m(left, right, how, on, left_on, right_on, left_index, right_index, sort, suffixes, copy, indicator, validate)\u001b[0m\n\u001b[0;32m    154\u001b[0m     \u001b[39mreturn\u001b[39;00m _cross_merge(\n\u001b[0;32m    155\u001b[0m         left_df,\n\u001b[0;32m    156\u001b[0m         right_df,\n\u001b[1;32m   (...)\u001b[0m\n\u001b[0;32m    166\u001b[0m         copy\u001b[39m=\u001b[39mcopy,\n\u001b[0;32m    167\u001b[0m     )\n\u001b[0;32m    168\u001b[0m \u001b[39melse\u001b[39;00m:\n\u001b[1;32m--> 169\u001b[0m     op \u001b[39m=\u001b[39m _MergeOperation(\n\u001b[0;32m    170\u001b[0m         left_df,\n\u001b[0;32m    171\u001b[0m         right_df,\n\u001b[0;32m    172\u001b[0m         how\u001b[39m=\u001b[39;49mhow,\n\u001b[0;32m    173\u001b[0m         on\u001b[39m=\u001b[39;49mon,\n\u001b[0;32m    174\u001b[0m         left_on\u001b[39m=\u001b[39;49mleft_on,\n\u001b[0;32m    175\u001b[0m         right_on\u001b[39m=\u001b[39;49mright_on,\n\u001b[0;32m    176\u001b[0m         left_index\u001b[39m=\u001b[39;49mleft_index,\n\u001b[0;32m    177\u001b[0m         right_index\u001b[39m=\u001b[39;49mright_index,\n\u001b[0;32m    178\u001b[0m         sort\u001b[39m=\u001b[39;49msort,\n\u001b[0;32m    179\u001b[0m         suffixes\u001b[39m=\u001b[39;49msuffixes,\n\u001b[0;32m    180\u001b[0m         indicator\u001b[39m=\u001b[39;49mindicator,\n\u001b[0;32m    181\u001b[0m         validate\u001b[39m=\u001b[39;49mvalidate,\n\u001b[0;32m    182\u001b[0m     )\n\u001b[0;32m    183\u001b[0m     \u001b[39mreturn\u001b[39;00m op\u001b[39m.\u001b[39mget_result(copy\u001b[39m=\u001b[39mcopy)\n",
      "File \u001b[1;32m~\\AppData\\Local\\Packages\\PythonSoftwareFoundation.Python.3.11_qbz5n2kfra8p0\\LocalCache\\local-packages\\Python311\\site-packages\\pandas\\core\\reshape\\merge.py:810\u001b[0m, in \u001b[0;36m_MergeOperation.__init__\u001b[1;34m(self, left, right, how, on, left_on, right_on, left_index, right_index, sort, suffixes, indicator, validate)\u001b[0m\n\u001b[0;32m    806\u001b[0m \u001b[39m# If argument passed to validate,\u001b[39;00m\n\u001b[0;32m    807\u001b[0m \u001b[39m# check if columns specified as unique\u001b[39;00m\n\u001b[0;32m    808\u001b[0m \u001b[39m# are in fact unique.\u001b[39;00m\n\u001b[0;32m    809\u001b[0m \u001b[39mif\u001b[39;00m validate \u001b[39mis\u001b[39;00m \u001b[39mnot\u001b[39;00m \u001b[39mNone\u001b[39;00m:\n\u001b[1;32m--> 810\u001b[0m     \u001b[39mself\u001b[39;49m\u001b[39m.\u001b[39;49m_validate_validate_kwd(validate)\n",
      "File \u001b[1;32m~\\AppData\\Local\\Packages\\PythonSoftwareFoundation.Python.3.11_qbz5n2kfra8p0\\LocalCache\\local-packages\\Python311\\site-packages\\pandas\\core\\reshape\\merge.py:1614\u001b[0m, in \u001b[0;36m_MergeOperation._validate_validate_kwd\u001b[1;34m(self, validate)\u001b[0m\n\u001b[0;32m   1612\u001b[0m \u001b[39mif\u001b[39;00m validate \u001b[39min\u001b[39;00m [\u001b[39m\"\u001b[39m\u001b[39mone_to_one\u001b[39m\u001b[39m\"\u001b[39m, \u001b[39m\"\u001b[39m\u001b[39m1:1\u001b[39m\u001b[39m\"\u001b[39m]:\n\u001b[0;32m   1613\u001b[0m     \u001b[39mif\u001b[39;00m \u001b[39mnot\u001b[39;00m left_unique \u001b[39mand\u001b[39;00m \u001b[39mnot\u001b[39;00m right_unique:\n\u001b[1;32m-> 1614\u001b[0m         \u001b[39mraise\u001b[39;00m MergeError(\n\u001b[0;32m   1615\u001b[0m             \u001b[39m\"\u001b[39m\u001b[39mMerge keys are not unique in either left \u001b[39m\u001b[39m\"\u001b[39m\n\u001b[0;32m   1616\u001b[0m             \u001b[39m\"\u001b[39m\u001b[39mor right dataset; not a one-to-one merge\u001b[39m\u001b[39m\"\u001b[39m\n\u001b[0;32m   1617\u001b[0m         )\n\u001b[0;32m   1618\u001b[0m     \u001b[39mif\u001b[39;00m \u001b[39mnot\u001b[39;00m left_unique:\n\u001b[0;32m   1619\u001b[0m         \u001b[39mraise\u001b[39;00m MergeError(\n\u001b[0;32m   1620\u001b[0m             \u001b[39m\"\u001b[39m\u001b[39mMerge keys are not unique in left dataset; not a one-to-one merge\u001b[39m\u001b[39m\"\u001b[39m\n\u001b[0;32m   1621\u001b[0m         )\n",
      "\u001b[1;31mMergeError\u001b[0m: Merge keys are not unique in either left or right dataset; not a one-to-one merge"
     ]
    }
   ],
   "source": [
    "df_items_filtrado = df_items[[\"user_id\",\"item_id\",\"playtime_hour\"]]\n",
    "df_reviews_filtrado = df_reviews[[\"user_id\",\"item_id\",\"year_posted\"]]\n",
    "df_output_filtrado = df_output[[\"id\",\"main_genre\"]]\n",
    "\n",
    "df_merged = pd.merge(df_items_filtrado, df_reviews_filtrado, on=\"item_id\", validate=\"one_to_one\")\n",
    "df_merged = pd.merge(df_merged, df_output_filtrado, left_on=\"item_id\", right_on=\"id\")\n",
    "\n",
    "df_user_genre_hours = df_merged.groupby(['user_id', 'main_genre', 'year_posted'])['playtime_hour'].sum().reset_index()\n",
    "max_hours_idx = df_user_genre_hours.groupby(['main_genre', 'year_posted'])['playtime_hour'].idxmax()\n",
    "df_result = df_user_genre_hours.loc[max_hours_idx][['user_id', 'main_genre', 'year_posted', 'playtime_hour']]\n",
    "df_result"
   ]
  },
  {
   "cell_type": "code",
   "execution_count": null,
   "metadata": {},
   "outputs": [
    {
     "ename": "NameError",
     "evalue": "name 'df_UserForGenre' is not defined",
     "output_type": "error",
     "traceback": [
      "\u001b[1;31m---------------------------------------------------------------------------\u001b[0m",
      "\u001b[1;31mNameError\u001b[0m                                 Traceback (most recent call last)",
      "\u001b[1;32mc:\\Users\\aylen\\OneDrive\\Escritorio\\EV FINAL\\DataFrames_Auxiliares.ipynb Cell 19\u001b[0m line \u001b[0;36m2\n\u001b[0;32m      <a href='vscode-notebook-cell:/c%3A/Users/aylen/OneDrive/Escritorio/EV%20FINAL/DataFrames_Auxiliares.ipynb#X24sZmlsZQ%3D%3D?line=0'>1</a>\u001b[0m archivo_limpio3 \u001b[39m=\u001b[39m \u001b[39m\"\u001b[39m\u001b[39mdata2/df_UserForGenre.csv\u001b[39m\u001b[39m\"\u001b[39m\n\u001b[1;32m----> <a href='vscode-notebook-cell:/c%3A/Users/aylen/OneDrive/Escritorio/EV%20FINAL/DataFrames_Auxiliares.ipynb#X24sZmlsZQ%3D%3D?line=1'>2</a>\u001b[0m df_UserForGenre\u001b[39m.\u001b[39mto_csv(archivo_limpio3, index\u001b[39m=\u001b[39m\u001b[39mFalse\u001b[39;00m, encoding\u001b[39m=\u001b[39m\u001b[39m\"\u001b[39m\u001b[39mutf-8\u001b[39m\u001b[39m\"\u001b[39m)\n\u001b[0;32m      <a href='vscode-notebook-cell:/c%3A/Users/aylen/OneDrive/Escritorio/EV%20FINAL/DataFrames_Auxiliares.ipynb#X24sZmlsZQ%3D%3D?line=2'>3</a>\u001b[0m \u001b[39mprint\u001b[39m(\u001b[39mf\u001b[39m\u001b[39m\"\u001b[39m\u001b[39mSe guardó el archivo \u001b[39m\u001b[39m{\u001b[39;00marchivo_limpio3\u001b[39m}\u001b[39;00m\u001b[39m\"\u001b[39m)\n",
      "\u001b[1;31mNameError\u001b[0m: name 'df_UserForGenre' is not defined"
     ]
    }
   ],
   "source": [
    "'''\n",
    "archivo_limpio3 = \"data2/df_UserForGenre.csv\"\n",
    "df_UserForGenre.to_csv(archivo_limpio3, index=False, encoding=\"utf-8\")\n",
    "print(f\"Se guardó el archivo {archivo_limpio3}\")\n",
    "'''"
   ]
  },
  {
   "cell_type": "code",
   "execution_count": null,
   "metadata": {},
   "outputs": [
    {
     "name": "stdout",
     "output_type": "stream",
     "text": [
      "Se guardó el archivo Datasets/df_UserForGenre.parquet\n"
     ]
    }
   ],
   "source": [
    "'''\n",
    "archivo_limpio4 = \"Datasets/df_UserForGenre.parquet\"\n",
    "df_UserForGenre.to_parquet(archivo_limpio4, index=False)\n",
    "print(f\"Se guardó el archivo {archivo_limpio4}\")\n",
    "'''"
   ]
  },
  {
   "cell_type": "markdown",
   "metadata": {},
   "source": [
    "### Funcion UsersRecommend\n",
    "En este caso nos piden una funcion que devuelve el top 3 de juegos MÁS recomendados por usuarios para el año dado, por lo que seran necesarias la columna id y app_name de df_output y las columnas item_id, recommend y year_posted de df_reviews"
   ]
  },
  {
   "cell_type": "code",
   "execution_count": 22,
   "metadata": {},
   "outputs": [
    {
     "data": {
      "text/html": [
       "<div>\n",
       "<style scoped>\n",
       "    .dataframe tbody tr th:only-of-type {\n",
       "        vertical-align: middle;\n",
       "    }\n",
       "\n",
       "    .dataframe tbody tr th {\n",
       "        vertical-align: top;\n",
       "    }\n",
       "\n",
       "    .dataframe thead th {\n",
       "        text-align: right;\n",
       "    }\n",
       "</style>\n",
       "<table border=\"1\" class=\"dataframe\">\n",
       "  <thead>\n",
       "    <tr style=\"text-align: right;\">\n",
       "      <th></th>\n",
       "      <th>year_posted</th>\n",
       "      <th>item_id</th>\n",
       "      <th>app_name</th>\n",
       "      <th>recommendation_count</th>\n",
       "    </tr>\n",
       "  </thead>\n",
       "  <tbody>\n",
       "    <tr>\n",
       "      <th>0</th>\n",
       "      <td>2010</td>\n",
       "      <td>440</td>\n",
       "      <td>Team Fortress 2</td>\n",
       "      <td>10</td>\n",
       "    </tr>\n",
       "    <tr>\n",
       "      <th>1</th>\n",
       "      <td>2010</td>\n",
       "      <td>1250</td>\n",
       "      <td>Killing Floor</td>\n",
       "      <td>6</td>\n",
       "    </tr>\n",
       "    <tr>\n",
       "      <th>2</th>\n",
       "      <td>2010</td>\n",
       "      <td>630</td>\n",
       "      <td>Alien Swarm</td>\n",
       "      <td>4</td>\n",
       "    </tr>\n",
       "    <tr>\n",
       "      <th>3</th>\n",
       "      <td>2011</td>\n",
       "      <td>440</td>\n",
       "      <td>Team Fortress 2</td>\n",
       "      <td>72</td>\n",
       "    </tr>\n",
       "    <tr>\n",
       "      <th>4</th>\n",
       "      <td>2011</td>\n",
       "      <td>620</td>\n",
       "      <td>Portal 2</td>\n",
       "      <td>24</td>\n",
       "    </tr>\n",
       "    <tr>\n",
       "      <th>5</th>\n",
       "      <td>2011</td>\n",
       "      <td>105600</td>\n",
       "      <td>Terraria</td>\n",
       "      <td>20</td>\n",
       "    </tr>\n",
       "    <tr>\n",
       "      <th>6</th>\n",
       "      <td>2012</td>\n",
       "      <td>440</td>\n",
       "      <td>Team Fortress 2</td>\n",
       "      <td>234</td>\n",
       "    </tr>\n",
       "    <tr>\n",
       "      <th>7</th>\n",
       "      <td>2012</td>\n",
       "      <td>4000</td>\n",
       "      <td>Garry's Mod</td>\n",
       "      <td>36</td>\n",
       "    </tr>\n",
       "    <tr>\n",
       "      <th>8</th>\n",
       "      <td>2012</td>\n",
       "      <td>105600</td>\n",
       "      <td>Terraria</td>\n",
       "      <td>36</td>\n",
       "    </tr>\n",
       "    <tr>\n",
       "      <th>9</th>\n",
       "      <td>2013</td>\n",
       "      <td>440</td>\n",
       "      <td>Team Fortress 2</td>\n",
       "      <td>938</td>\n",
       "    </tr>\n",
       "    <tr>\n",
       "      <th>10</th>\n",
       "      <td>2013</td>\n",
       "      <td>730</td>\n",
       "      <td>Counter-Strike: Global Offensive</td>\n",
       "      <td>708</td>\n",
       "    </tr>\n",
       "    <tr>\n",
       "      <th>11</th>\n",
       "      <td>2013</td>\n",
       "      <td>4000</td>\n",
       "      <td>Garry's Mod</td>\n",
       "      <td>423</td>\n",
       "    </tr>\n",
       "    <tr>\n",
       "      <th>12</th>\n",
       "      <td>2014</td>\n",
       "      <td>440</td>\n",
       "      <td>Team Fortress 2</td>\n",
       "      <td>1397</td>\n",
       "    </tr>\n",
       "    <tr>\n",
       "      <th>13</th>\n",
       "      <td>2014</td>\n",
       "      <td>730</td>\n",
       "      <td>Counter-Strike: Global Offensive</td>\n",
       "      <td>932</td>\n",
       "    </tr>\n",
       "    <tr>\n",
       "      <th>14</th>\n",
       "      <td>2014</td>\n",
       "      <td>4000</td>\n",
       "      <td>Garry's Mod</td>\n",
       "      <td>667</td>\n",
       "    </tr>\n",
       "    <tr>\n",
       "      <th>15</th>\n",
       "      <td>2015</td>\n",
       "      <td>730</td>\n",
       "      <td>Counter-Strike: Global Offensive</td>\n",
       "      <td>1305</td>\n",
       "    </tr>\n",
       "    <tr>\n",
       "      <th>16</th>\n",
       "      <td>2015</td>\n",
       "      <td>440</td>\n",
       "      <td>Team Fortress 2</td>\n",
       "      <td>582</td>\n",
       "    </tr>\n",
       "    <tr>\n",
       "      <th>17</th>\n",
       "      <td>2015</td>\n",
       "      <td>4000</td>\n",
       "      <td>Garry's Mod</td>\n",
       "      <td>294</td>\n",
       "    </tr>\n",
       "  </tbody>\n",
       "</table>\n",
       "</div>"
      ],
      "text/plain": [
       "    year_posted  item_id                          app_name  \\\n",
       "0          2010      440                   Team Fortress 2   \n",
       "1          2010     1250                     Killing Floor   \n",
       "2          2010      630                       Alien Swarm   \n",
       "3          2011      440                   Team Fortress 2   \n",
       "4          2011      620                          Portal 2   \n",
       "5          2011   105600                          Terraria   \n",
       "6          2012      440                   Team Fortress 2   \n",
       "7          2012     4000                       Garry's Mod   \n",
       "8          2012   105600                          Terraria   \n",
       "9          2013      440                   Team Fortress 2   \n",
       "10         2013      730  Counter-Strike: Global Offensive   \n",
       "11         2013     4000                       Garry's Mod   \n",
       "12         2014      440                   Team Fortress 2   \n",
       "13         2014      730  Counter-Strike: Global Offensive   \n",
       "14         2014     4000                       Garry's Mod   \n",
       "15         2015      730  Counter-Strike: Global Offensive   \n",
       "16         2015      440                   Team Fortress 2   \n",
       "17         2015     4000                       Garry's Mod   \n",
       "\n",
       "    recommendation_count  \n",
       "0                     10  \n",
       "1                      6  \n",
       "2                      4  \n",
       "3                     72  \n",
       "4                     24  \n",
       "5                     20  \n",
       "6                    234  \n",
       "7                     36  \n",
       "8                     36  \n",
       "9                    938  \n",
       "10                   708  \n",
       "11                   423  \n",
       "12                  1397  \n",
       "13                   932  \n",
       "14                   667  \n",
       "15                  1305  \n",
       "16                   582  \n",
       "17                   294  "
      ]
     },
     "execution_count": 22,
     "metadata": {},
     "output_type": "execute_result"
    }
   ],
   "source": [
    "df_output3_ = df_output[[\"id\", \"app_name\"]].drop_duplicates()\n",
    "df_reviews2_ = df_reviews[[\"item_id\", \"recommend\", \"year_posted\",\"sentiment_analysis\"]]\n",
    "df_reviews_merged_ = pd.merge(df_reviews2_, df_output3_, left_on=\"item_id\", right_on=\"id\")\n",
    "positive_reviews_ = df_reviews_merged_[(df_reviews_merged_[\"recommend\"]== True) & (df_reviews_merged_[\"sentiment_analysis\"] >=1)]\n",
    "grouped_reviews_ = positive_reviews_.groupby([\"year_posted\", \"item_id\", \"app_name\"]).size().reset_index(name=\"recommendation_count\")\n",
    "df_UsersRecommend_ = (\n",
    "    grouped_reviews_.sort_values(by=[\"year_posted\", \"recommendation_count\"], ascending=[True, False])\n",
    "                   .groupby(\"year_posted\")\n",
    "                   .head(3)\n",
    "                   .reset_index(drop=True)\n",
    ")\n",
    "df_UsersRecommend_"
   ]
  },
  {
   "cell_type": "code",
   "execution_count": 23,
   "metadata": {},
   "outputs": [
    {
     "name": "stdout",
     "output_type": "stream",
     "text": [
      "Se guardó el archivo data2/df_UsersRecommend2.csv\n"
     ]
    }
   ],
   "source": [
    "archivo_limpio5 = \"data2/df_UsersRecommend2.csv\"\n",
    "df_UsersRecommend_.to_csv(archivo_limpio5, index=False, encoding=\"utf-8\")\n",
    "print(f\"Se guardó el archivo {archivo_limpio5}\") "
   ]
  },
  {
   "cell_type": "code",
   "execution_count": 24,
   "metadata": {},
   "outputs": [
    {
     "name": "stdout",
     "output_type": "stream",
     "text": [
      "Se guardó el archivo Datasets/df_UsersRecommend2.parquet\n"
     ]
    }
   ],
   "source": [
    "archivo_limpio6 = \"Datasets/df_UsersRecommend2.parquet\"\n",
    "df_UsersRecommend_.to_parquet(archivo_limpio6, index=False)\n",
    "print(f\"Se guardó el archivo {archivo_limpio6}\")"
   ]
  },
  {
   "cell_type": "markdown",
   "metadata": {},
   "source": [
    "### Funcion UsersWorstDeveloper\n",
    "En este caso nos piden una funcion que devuelve el top 3 de desarrolladoras con juegos MENOS recomendados por usuarios para el año dado. (reviews.recommend = False y comentarios negativos)"
   ]
  },
  {
   "cell_type": "code",
   "execution_count": 28,
   "metadata": {},
   "outputs": [
    {
     "data": {
      "text/html": [
       "<div>\n",
       "<style scoped>\n",
       "    .dataframe tbody tr th:only-of-type {\n",
       "        vertical-align: middle;\n",
       "    }\n",
       "\n",
       "    .dataframe tbody tr th {\n",
       "        vertical-align: top;\n",
       "    }\n",
       "\n",
       "    .dataframe thead th {\n",
       "        text-align: right;\n",
       "    }\n",
       "</style>\n",
       "<table border=\"1\" class=\"dataframe\">\n",
       "  <thead>\n",
       "    <tr style=\"text-align: right;\">\n",
       "      <th></th>\n",
       "      <th>year_posted</th>\n",
       "      <th>item_id</th>\n",
       "      <th>developer</th>\n",
       "      <th>recommendation_count</th>\n",
       "    </tr>\n",
       "  </thead>\n",
       "  <tbody>\n",
       "    <tr>\n",
       "      <th>0</th>\n",
       "      <td>2011</td>\n",
       "      <td>440</td>\n",
       "      <td>Valve</td>\n",
       "      <td>1</td>\n",
       "    </tr>\n",
       "    <tr>\n",
       "      <th>1</th>\n",
       "      <td>2011</td>\n",
       "      <td>18700</td>\n",
       "      <td>Broken Rules</td>\n",
       "      <td>1</td>\n",
       "    </tr>\n",
       "    <tr>\n",
       "      <th>2</th>\n",
       "      <td>2011</td>\n",
       "      <td>33460</td>\n",
       "      <td>Ubisoft Montpellier</td>\n",
       "      <td>1</td>\n",
       "    </tr>\n",
       "    <tr>\n",
       "      <th>3</th>\n",
       "      <td>2012</td>\n",
       "      <td>440</td>\n",
       "      <td>Valve</td>\n",
       "      <td>1</td>\n",
       "    </tr>\n",
       "    <tr>\n",
       "      <th>4</th>\n",
       "      <td>2012</td>\n",
       "      <td>42920</td>\n",
       "      <td>NeoCoreGames</td>\n",
       "      <td>1</td>\n",
       "    </tr>\n",
       "    <tr>\n",
       "      <th>5</th>\n",
       "      <td>2012</td>\n",
       "      <td>55110</td>\n",
       "      <td>Volition</td>\n",
       "      <td>1</td>\n",
       "    </tr>\n",
       "    <tr>\n",
       "      <th>6</th>\n",
       "      <td>2013</td>\n",
       "      <td>275850</td>\n",
       "      <td>Hello Games</td>\n",
       "      <td>52</td>\n",
       "    </tr>\n",
       "    <tr>\n",
       "      <th>7</th>\n",
       "      <td>2013</td>\n",
       "      <td>730</td>\n",
       "      <td>Valve</td>\n",
       "      <td>32</td>\n",
       "    </tr>\n",
       "    <tr>\n",
       "      <th>8</th>\n",
       "      <td>2013</td>\n",
       "      <td>440</td>\n",
       "      <td>Valve</td>\n",
       "      <td>25</td>\n",
       "    </tr>\n",
       "    <tr>\n",
       "      <th>9</th>\n",
       "      <td>2014</td>\n",
       "      <td>221100</td>\n",
       "      <td>Bohemia Interactive</td>\n",
       "      <td>19</td>\n",
       "    </tr>\n",
       "    <tr>\n",
       "      <th>10</th>\n",
       "      <td>2014</td>\n",
       "      <td>730</td>\n",
       "      <td>Valve</td>\n",
       "      <td>15</td>\n",
       "    </tr>\n",
       "    <tr>\n",
       "      <th>11</th>\n",
       "      <td>2014</td>\n",
       "      <td>104900</td>\n",
       "      <td>Trek Industries, Inc</td>\n",
       "      <td>14</td>\n",
       "    </tr>\n",
       "    <tr>\n",
       "      <th>12</th>\n",
       "      <td>2015</td>\n",
       "      <td>730</td>\n",
       "      <td>Valve</td>\n",
       "      <td>45</td>\n",
       "    </tr>\n",
       "    <tr>\n",
       "      <th>13</th>\n",
       "      <td>2015</td>\n",
       "      <td>221100</td>\n",
       "      <td>Bohemia Interactive</td>\n",
       "      <td>29</td>\n",
       "    </tr>\n",
       "    <tr>\n",
       "      <th>14</th>\n",
       "      <td>2015</td>\n",
       "      <td>252490</td>\n",
       "      <td>Facepunch Studios</td>\n",
       "      <td>19</td>\n",
       "    </tr>\n",
       "  </tbody>\n",
       "</table>\n",
       "</div>"
      ],
      "text/plain": [
       "    year_posted  item_id             developer  recommendation_count\n",
       "0          2011      440                 Valve                     1\n",
       "1          2011    18700          Broken Rules                     1\n",
       "2          2011    33460   Ubisoft Montpellier                     1\n",
       "3          2012      440                 Valve                     1\n",
       "4          2012    42920          NeoCoreGames                     1\n",
       "5          2012    55110              Volition                     1\n",
       "6          2013   275850           Hello Games                    52\n",
       "7          2013      730                 Valve                    32\n",
       "8          2013      440                 Valve                    25\n",
       "9          2014   221100   Bohemia Interactive                    19\n",
       "10         2014      730                 Valve                    15\n",
       "11         2014   104900  Trek Industries, Inc                    14\n",
       "12         2015      730                 Valve                    45\n",
       "13         2015   221100   Bohemia Interactive                    29\n",
       "14         2015   252490     Facepunch Studios                    19"
      ]
     },
     "execution_count": 28,
     "metadata": {},
     "output_type": "execute_result"
    }
   ],
   "source": [
    "df_output4 = df_output[[\"id\", \"developer\"]].drop_duplicates()\n",
    "df_reviews4 = df_reviews[[\"item_id\", \"recommend\", \"year_posted\",\"sentiment_analysis\"]]\n",
    "df_reviews_merged4 = pd.merge(df_reviews4, df_output4, left_on=\"item_id\", right_on=\"id\")\n",
    "negative_reviews4 = df_reviews_merged4[(df_reviews_merged4[\"recommend\"]== False) & (df_reviews_merged4[\"sentiment_analysis\"] == 0)]\n",
    "grouped_reviews4 = negative_reviews4.groupby([\"year_posted\", \"item_id\", \"developer\"]).size().reset_index(name=\"recommendation_count\")\n",
    "df_UsersWorstDeveloper = (\n",
    "    grouped_reviews4.sort_values(by=[\"year_posted\", \"recommendation_count\"], ascending=[True, False])\n",
    "                   .groupby(\"year_posted\")\n",
    "                   .head(3)\n",
    "                   .reset_index(drop=True)\n",
    ")\n",
    "df_UsersWorstDeveloper"
   ]
  },
  {
   "cell_type": "code",
   "execution_count": 29,
   "metadata": {},
   "outputs": [
    {
     "name": "stdout",
     "output_type": "stream",
     "text": [
      "Se guardó el archivo data2/df_UsersWorstDeveloper.csv\n"
     ]
    }
   ],
   "source": [
    "archivo_limpio7 = \"data2/df_UsersWorstDeveloper.csv\"\n",
    "df_UsersWorstDeveloper.to_csv(archivo_limpio7, index=False, encoding=\"utf-8\")\n",
    "print(f\"Se guardó el archivo {archivo_limpio7}\") "
   ]
  },
  {
   "cell_type": "code",
   "execution_count": 30,
   "metadata": {},
   "outputs": [
    {
     "name": "stdout",
     "output_type": "stream",
     "text": [
      "Se guardó el archivo Datasets/df_UserWorstDeveloper.parquet\n"
     ]
    }
   ],
   "source": [
    "archivo_limpio8 = \"Datasets/df_UserWorstDeveloper.parquet\"\n",
    "df_UsersWorstDeveloper.to_parquet(archivo_limpio8, index=False)\n",
    "print(f\"Se guardó el archivo {archivo_limpio8}\")"
   ]
  },
  {
   "cell_type": "markdown",
   "metadata": {},
   "source": [
    "### Funcion Sentiment_analysis\n",
    "En este caso nos piden una funcion que devuelve un diccionario con el nombre de la desarrolladora como llave y una lista con la cantidad total de registros de reseñas de usuarios que se encuentren categorizados con un análisis de sentimiento como valor."
   ]
  },
  {
   "cell_type": "code",
   "execution_count": 40,
   "metadata": {},
   "outputs": [
    {
     "data": {
      "text/html": [
       "<div>\n",
       "<style scoped>\n",
       "    .dataframe tbody tr th:only-of-type {\n",
       "        vertical-align: middle;\n",
       "    }\n",
       "\n",
       "    .dataframe tbody tr th {\n",
       "        vertical-align: top;\n",
       "    }\n",
       "\n",
       "    .dataframe thead th {\n",
       "        text-align: right;\n",
       "    }\n",
       "</style>\n",
       "<table border=\"1\" class=\"dataframe\">\n",
       "  <thead>\n",
       "    <tr style=\"text-align: right;\">\n",
       "      <th></th>\n",
       "      <th>developer</th>\n",
       "      <th>sentiment_analysis</th>\n",
       "      <th>sentiment_analysis_count</th>\n",
       "    </tr>\n",
       "  </thead>\n",
       "  <tbody>\n",
       "    <tr>\n",
       "      <th>0</th>\n",
       "      <td>07th Expansion</td>\n",
       "      <td>0</td>\n",
       "      <td>1</td>\n",
       "    </tr>\n",
       "    <tr>\n",
       "      <th>1</th>\n",
       "      <td>07th Expansion</td>\n",
       "      <td>1</td>\n",
       "      <td>2</td>\n",
       "    </tr>\n",
       "    <tr>\n",
       "      <th>2</th>\n",
       "      <td>10th Art Studio,Adventure Productions</td>\n",
       "      <td>0</td>\n",
       "      <td>1</td>\n",
       "    </tr>\n",
       "    <tr>\n",
       "      <th>3</th>\n",
       "      <td>10th Art Studio,Adventure Productions</td>\n",
       "      <td>1</td>\n",
       "      <td>1</td>\n",
       "    </tr>\n",
       "    <tr>\n",
       "      <th>4</th>\n",
       "      <td>10tons Ltd</td>\n",
       "      <td>1</td>\n",
       "      <td>1</td>\n",
       "    </tr>\n",
       "    <tr>\n",
       "      <th>...</th>\n",
       "      <td>...</td>\n",
       "      <td>...</td>\n",
       "      <td>...</td>\n",
       "    </tr>\n",
       "    <tr>\n",
       "      <th>3960</th>\n",
       "      <td>インレ,Inre</td>\n",
       "      <td>1</td>\n",
       "      <td>4</td>\n",
       "    </tr>\n",
       "    <tr>\n",
       "      <th>3961</th>\n",
       "      <td>橘子班</td>\n",
       "      <td>0</td>\n",
       "      <td>1</td>\n",
       "    </tr>\n",
       "    <tr>\n",
       "      <th>3962</th>\n",
       "      <td>橘子班</td>\n",
       "      <td>1</td>\n",
       "      <td>2</td>\n",
       "    </tr>\n",
       "    <tr>\n",
       "      <th>3963</th>\n",
       "      <td>橘子班</td>\n",
       "      <td>2</td>\n",
       "      <td>1</td>\n",
       "    </tr>\n",
       "    <tr>\n",
       "      <th>3964</th>\n",
       "      <td>高考恋爱委员会,橘子班</td>\n",
       "      <td>1</td>\n",
       "      <td>2</td>\n",
       "    </tr>\n",
       "  </tbody>\n",
       "</table>\n",
       "<p>3965 rows × 3 columns</p>\n",
       "</div>"
      ],
      "text/plain": [
       "                                  developer  sentiment_analysis  \\\n",
       "0                            07th Expansion                   0   \n",
       "1                            07th Expansion                   1   \n",
       "2     10th Art Studio,Adventure Productions                   0   \n",
       "3     10th Art Studio,Adventure Productions                   1   \n",
       "4                                10tons Ltd                   1   \n",
       "...                                     ...                 ...   \n",
       "3960                               インレ,Inre                   1   \n",
       "3961                                    橘子班                   0   \n",
       "3962                                    橘子班                   1   \n",
       "3963                                    橘子班                   2   \n",
       "3964                            高考恋爱委员会,橘子班                   1   \n",
       "\n",
       "      sentiment_analysis_count  \n",
       "0                            1  \n",
       "1                            2  \n",
       "2                            1  \n",
       "3                            1  \n",
       "4                            1  \n",
       "...                        ...  \n",
       "3960                         4  \n",
       "3961                         1  \n",
       "3962                         2  \n",
       "3963                         1  \n",
       "3964                         2  \n",
       "\n",
       "[3965 rows x 3 columns]"
      ]
     },
     "execution_count": 40,
     "metadata": {},
     "output_type": "execute_result"
    }
   ],
   "source": [
    "df_reviews0 = df_reviews[[\"user_id\", \"item_id\",\"recommend\",\"year_posted\",\"sentiment_analysis\"]]\n",
    "df_reviews1 = pd.merge(df_reviews0, df_output[[\"id\",\"app_name\",\"developer\"]], left_on=\"item_id\", right_on=\"id\")\n",
    "df_reviews02 = df_reviews1[[\"user_id\",\"app_name\",\"developer\",\"recommend\",\"year_posted\",\"sentiment_analysis\"]]\n",
    "df_Sentiment_analysis = df_reviews02.groupby([\"developer\",\"sentiment_analysis\"]).size().reset_index(name=\"sentiment_analysis_count\")\n",
    "df_Sentiment_analysis"
   ]
  },
  {
   "cell_type": "code",
   "execution_count": 41,
   "metadata": {},
   "outputs": [
    {
     "name": "stdout",
     "output_type": "stream",
     "text": [
      "Se guardó el archivo data2/df_Sentiment_analysis.csv\n"
     ]
    }
   ],
   "source": [
    "archivo_limpio10 = \"data2/df_Sentiment_analysis.csv\"\n",
    "df_Sentiment_analysis.to_csv(archivo_limpio10, index=False, encoding=\"utf-8\")\n",
    "print(f\"Se guardó el archivo {archivo_limpio10}\") "
   ]
  },
  {
   "cell_type": "code",
   "execution_count": 42,
   "metadata": {},
   "outputs": [
    {
     "name": "stdout",
     "output_type": "stream",
     "text": [
      "Se guardó el archivo Datasets/df_Sentiment_analysis.parquet\n"
     ]
    }
   ],
   "source": [
    "archivo_limpio11 = \"Datasets/df_Sentiment_analysis.parquet\"\n",
    "df_Sentiment_analysis.to_parquet(archivo_limpio11, index=False)\n",
    "print(f\"Se guardó el archivo {archivo_limpio11}\")"
   ]
  }
 ],
 "metadata": {
  "kernelspec": {
   "display_name": "Python 3",
   "language": "python",
   "name": "python3"
  },
  "language_info": {
   "codemirror_mode": {
    "name": "ipython",
    "version": 3
   },
   "file_extension": ".py",
   "mimetype": "text/x-python",
   "name": "python",
   "nbconvert_exporter": "python",
   "pygments_lexer": "ipython3",
   "version": "3.11.6"
  }
 },
 "nbformat": 4,
 "nbformat_minor": 2
}
