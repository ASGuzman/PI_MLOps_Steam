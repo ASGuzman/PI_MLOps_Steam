{
 "cells": [
  {
   "cell_type": "markdown",
   "metadata": {},
   "source": [
    "# Experimentación para la Elaboración de Funciones Cruciales para la API:\n",
    "En esta fase, llevamos a cabo la creación y prueba de funciones esenciales para nuestra API, utilizando los datos disponibles. Este enfoque nos permite verificar la efectividad y eficiencia de las funciones en un entorno controlado. No obstante, al implementarlas finalmente, es posible que se requieran adaptaciones para cumplir con los requisitos específicos de FastAPI y Render."
   ]
  },
  {
   "cell_type": "code",
   "execution_count": 2,
   "metadata": {},
   "outputs": [],
   "source": [
    "import pandas as pd\n",
    "import warnings\n",
    "warnings.filterwarnings(\"ignore\")"
   ]
  },
  {
   "cell_type": "markdown",
   "metadata": {},
   "source": [
    "## Funcion PlayTimeGenre"
   ]
  },
  {
   "cell_type": "code",
   "execution_count": 3,
   "metadata": {},
   "outputs": [
    {
     "data": {
      "text/plain": [
       "Index(['main_genre', 'release_year', 'playtime_hour'], dtype='object')"
      ]
     },
     "execution_count": 3,
     "metadata": {},
     "output_type": "execute_result"
    }
   ],
   "source": [
    "df_PlayTimeGenre = pd.read_csv(\"data2/df_PlayTimeGenre_hour.csv\")\n",
    "df_PlayTimeGenre.columns"
   ]
  },
  {
   "cell_type": "code",
   "execution_count": 4,
   "metadata": {},
   "outputs": [],
   "source": [
    "def PlayTimeGenre( genero : str ):\n",
    "    \"\"\"\n",
    "    Funcion que devuelve el año con mas horas jugadas para dicho género.\n",
    "    \"\"\"\n",
    "    generos = df_PlayTimeGenre[df_PlayTimeGenre[\"main_genre\"]== genero] #Filtramos en el dataframe el genero que fue solicitado\n",
    "    if generos.empty:  #Con esta linea nos aseguramos que si para ese genero no hay resultado se notifique\n",
    "        return f\"No se encontraron datos para el género {genero}\"\n",
    "    año_max = generos.loc[generos[\"playtime_hour\"].idxmax()] #Primero identificamos la fila (indice) que tiene la máxima cantidad de horas jugadas para el género dado y posteriormente se selecciona esa fila a partir del indice\n",
    "    result = {\n",
    "        'Genero': genero,\n",
    "        'Año con Más Horas Jugadas': int(año_max[\"release_year\"]),\n",
    "        'Total de Horas Jugadas': año_max[\"playtime_hour\"]\n",
    "    }\n",
    "\n",
    "    return result"
   ]
  },
  {
   "cell_type": "code",
   "execution_count": 10,
   "metadata": {},
   "outputs": [
    {
     "data": {
      "text/plain": [
       "{'Genero': 'Action',\n",
       " 'Año con Más Horas Jugadas': 2013,\n",
       " 'Total de Horas Jugadas': 6419735.3}"
      ]
     },
     "execution_count": 10,
     "metadata": {},
     "output_type": "execute_result"
    }
   ],
   "source": [
    "PlayTimeGenre(\"Action\")"
   ]
  },
  {
   "cell_type": "markdown",
   "metadata": {},
   "source": [
    "## Funcion UserForGenre"
   ]
  },
  {
   "cell_type": "code",
   "execution_count": 6,
   "metadata": {},
   "outputs": [
    {
     "data": {
      "text/plain": [
       "Index(['user_id', 'main_genre', 'release_year', 'playtime_hour'], dtype='object')"
      ]
     },
     "execution_count": 6,
     "metadata": {},
     "output_type": "execute_result"
    }
   ],
   "source": [
    "df_UserForGenre = pd.read_csv(\"data2\\df_UsersForGenre2.csv\")\n",
    "df_UserForGenre.columns"
   ]
  },
  {
   "cell_type": "code",
   "execution_count": 7,
   "metadata": {},
   "outputs": [],
   "source": [
    "def UserForGenre( genero : str ):\n",
    "    \"\"\"\n",
    "    Funcion que devuelve el usuario que acumula más horas jugadas para el género dado \n",
    "    y una lista de la acumulación de horas jugadas por año.\n",
    "    \"\"\"\n",
    "    generos2 = df_UserForGenre[df_UserForGenre[\"main_genre\"]== genero]\n",
    "    user_max = generos2.loc[generos2[\"playtime_hour\"].idxmax()][\"user_id\"]\n",
    "    horas_x_año = generos2.groupby([\"release_year\"])[\"playtime_hour\"].sum().reset_index()\n",
    "    horas_lista = horas_x_año.to_dict(orient=\"records\")\n",
    "    result2 = {\n",
    "        \"Genero\": genero,\n",
    "        \"Usuario con Más Horas Jugadas\": user_max,\n",
    "        \"Total de Horas Jugadas Por Año\": horas_lista\n",
    "    }\n",
    "    return result2"
   ]
  },
  {
   "cell_type": "code",
   "execution_count": 31,
   "metadata": {},
   "outputs": [
    {
     "data": {
      "text/plain": [
       "{'Genero': 'Action',\n",
       " 'Usuario con Más Horas Jugadas': 'shinomegami',\n",
       " 'Total de Horas Jugadas Por Año': [{'release_year': 1990,\n",
       "   'playtime_hour': 2.3666666666666667},\n",
       "  {'release_year': 1991, 'playtime_hour': 0.6833333333333333},\n",
       "  {'release_year': 1992, 'playtime_hour': 0.1666666666666666},\n",
       "  {'release_year': 1993, 'playtime_hour': 0.1166666666666666},\n",
       "  {'release_year': 1994, 'playtime_hour': 27.433333333333334},\n",
       "  {'release_year': 1995, 'playtime_hour': 186.25},\n",
       "  {'release_year': 1996, 'playtime_hour': 1.4},\n",
       "  {'release_year': 1997, 'playtime_hour': 15.983333333333334},\n",
       "  {'release_year': 1998, 'playtime_hour': 113.18333333333334},\n",
       "  {'release_year': 1999, 'playtime_hour': 1277.4},\n",
       "  {'release_year': 2000, 'playtime_hour': 122.46666666666667},\n",
       "  {'release_year': 2001, 'playtime_hour': 21.3},\n",
       "  {'release_year': 2002, 'playtime_hour': 195.33333333333334},\n",
       "  {'release_year': 2003, 'playtime_hour': 20109.35},\n",
       "  {'release_year': 2004, 'playtime_hour': 212.06666666666666},\n",
       "  {'release_year': 2005, 'playtime_hour': 759.3833333333333},\n",
       "  {'release_year': 2006, 'playtime_hour': 3482.9},\n",
       "  {'release_year': 2007, 'playtime_hour': 4217.116666666667},\n",
       "  {'release_year': 2008, 'playtime_hour': 2395.3333333333335},\n",
       "  {'release_year': 2009, 'playtime_hour': 113334.91666666667},\n",
       "  {'release_year': 2010, 'playtime_hour': 7178.466666666666},\n",
       "  {'release_year': 2011, 'playtime_hour': 264067.76666666666},\n",
       "  {'release_year': 2012, 'playtime_hour': 232481.71666666667},\n",
       "  {'release_year': 2013, 'playtime_hour': 622142.4},\n",
       "  {'release_year': 2014, 'playtime_hour': 71330.05},\n",
       "  {'release_year': 2015, 'playtime_hour': 174223.08333333334},\n",
       "  {'release_year': 2016, 'playtime_hour': 56015.28333333333},\n",
       "  {'release_year': 2017, 'playtime_hour': 112527.23333333334}]}"
      ]
     },
     "execution_count": 31,
     "metadata": {},
     "output_type": "execute_result"
    }
   ],
   "source": [
    "UserForGenre(\"Action\")"
   ]
  },
  {
   "cell_type": "code",
   "execution_count": 28,
   "metadata": {},
   "outputs": [
    {
     "data": {
      "text/plain": [
       "Index(['user_id', 'main_genre', 'year_posted', 'playtime_hour'], dtype='object')"
      ]
     },
     "execution_count": 28,
     "metadata": {},
     "output_type": "execute_result"
    }
   ],
   "source": [
    "df_UserForGenre3 = pd.read_csv(\"data2/df_UsersForGenre3.csv\")\n",
    "df_UserForGenre3.columns"
   ]
  },
  {
   "cell_type": "code",
   "execution_count": 29,
   "metadata": {},
   "outputs": [],
   "source": [
    "def UserForGenre3( genero : str ):\n",
    "    \"\"\"\n",
    "    Funcion que devuelve el usuario que acumula más horas jugadas para el género dado \n",
    "    y una lista de la acumulación de horas jugadas por año.\n",
    "    \"\"\"\n",
    "    generos3 = df_UserForGenre3[df_UserForGenre3[\"main_genre\"]== genero]\n",
    "    user_max3 = generos3.loc[generos3[\"playtime_hour\"].idxmax()][\"user_id\"]\n",
    "    horas_x_año3 = generos3.groupby([\"year_posted\"])[\"playtime_hour\"].sum().reset_index()\n",
    "    horas_lista3 = horas_x_año3.to_dict(orient=\"records\")\n",
    "    result6 = {\n",
    "        \"Genero\": genero,\n",
    "        \"Usuario con Más Horas Jugadas\": user_max3,\n",
    "        \"Total de Horas Jugadas Por Año\": horas_lista3\n",
    "    }\n",
    "    return result6"
   ]
  },
  {
   "cell_type": "code",
   "execution_count": 30,
   "metadata": {},
   "outputs": [
    {
     "data": {
      "text/plain": [
       "{'Genero': 'Action',\n",
       " 'Usuario con Más Horas Jugadas': 'shinomegami',\n",
       " 'Total de Horas Jugadas Por Año': [{'year_posted': 2010,\n",
       "   'playtime_hour': 1818.4166666666667},\n",
       "  {'year_posted': 2011, 'playtime_hour': 14224.816666666666},\n",
       "  {'year_posted': 2012, 'playtime_hour': 43592.55},\n",
       "  {'year_posted': 2013, 'playtime_hour': 507593.1333333333},\n",
       "  {'year_posted': 2014, 'playtime_hour': 606151.4333333333},\n",
       "  {'year_posted': 2015, 'playtime_hour': 513060.8}]}"
      ]
     },
     "execution_count": 30,
     "metadata": {},
     "output_type": "execute_result"
    }
   ],
   "source": [
    "UserForGenre3(\"Action\")"
   ]
  },
  {
   "cell_type": "markdown",
   "metadata": {},
   "source": [
    "## Funcion UsersRecommend"
   ]
  },
  {
   "cell_type": "code",
   "execution_count": 12,
   "metadata": {},
   "outputs": [
    {
     "data": {
      "text/html": [
       "<div>\n",
       "<style scoped>\n",
       "    .dataframe tbody tr th:only-of-type {\n",
       "        vertical-align: middle;\n",
       "    }\n",
       "\n",
       "    .dataframe tbody tr th {\n",
       "        vertical-align: top;\n",
       "    }\n",
       "\n",
       "    .dataframe thead th {\n",
       "        text-align: right;\n",
       "    }\n",
       "</style>\n",
       "<table border=\"1\" class=\"dataframe\">\n",
       "  <thead>\n",
       "    <tr style=\"text-align: right;\">\n",
       "      <th></th>\n",
       "      <th>year_posted</th>\n",
       "      <th>item_id</th>\n",
       "      <th>app_name</th>\n",
       "      <th>recommendation_count</th>\n",
       "    </tr>\n",
       "  </thead>\n",
       "  <tbody>\n",
       "    <tr>\n",
       "      <th>0</th>\n",
       "      <td>2010</td>\n",
       "      <td>440</td>\n",
       "      <td>Team Fortress 2</td>\n",
       "      <td>10</td>\n",
       "    </tr>\n",
       "    <tr>\n",
       "      <th>1</th>\n",
       "      <td>2010</td>\n",
       "      <td>1250</td>\n",
       "      <td>Killing Floor</td>\n",
       "      <td>6</td>\n",
       "    </tr>\n",
       "    <tr>\n",
       "      <th>2</th>\n",
       "      <td>2010</td>\n",
       "      <td>630</td>\n",
       "      <td>Alien Swarm</td>\n",
       "      <td>4</td>\n",
       "    </tr>\n",
       "    <tr>\n",
       "      <th>3</th>\n",
       "      <td>2011</td>\n",
       "      <td>440</td>\n",
       "      <td>Team Fortress 2</td>\n",
       "      <td>72</td>\n",
       "    </tr>\n",
       "    <tr>\n",
       "      <th>4</th>\n",
       "      <td>2011</td>\n",
       "      <td>620</td>\n",
       "      <td>Portal 2</td>\n",
       "      <td>24</td>\n",
       "    </tr>\n",
       "    <tr>\n",
       "      <th>5</th>\n",
       "      <td>2011</td>\n",
       "      <td>105600</td>\n",
       "      <td>Terraria</td>\n",
       "      <td>20</td>\n",
       "    </tr>\n",
       "    <tr>\n",
       "      <th>6</th>\n",
       "      <td>2012</td>\n",
       "      <td>440</td>\n",
       "      <td>Team Fortress 2</td>\n",
       "      <td>234</td>\n",
       "    </tr>\n",
       "    <tr>\n",
       "      <th>7</th>\n",
       "      <td>2012</td>\n",
       "      <td>4000</td>\n",
       "      <td>Garry's Mod</td>\n",
       "      <td>36</td>\n",
       "    </tr>\n",
       "    <tr>\n",
       "      <th>8</th>\n",
       "      <td>2012</td>\n",
       "      <td>105600</td>\n",
       "      <td>Terraria</td>\n",
       "      <td>36</td>\n",
       "    </tr>\n",
       "    <tr>\n",
       "      <th>9</th>\n",
       "      <td>2013</td>\n",
       "      <td>440</td>\n",
       "      <td>Team Fortress 2</td>\n",
       "      <td>938</td>\n",
       "    </tr>\n",
       "    <tr>\n",
       "      <th>10</th>\n",
       "      <td>2013</td>\n",
       "      <td>730</td>\n",
       "      <td>Counter-Strike: Global Offensive</td>\n",
       "      <td>708</td>\n",
       "    </tr>\n",
       "    <tr>\n",
       "      <th>11</th>\n",
       "      <td>2013</td>\n",
       "      <td>4000</td>\n",
       "      <td>Garry's Mod</td>\n",
       "      <td>423</td>\n",
       "    </tr>\n",
       "    <tr>\n",
       "      <th>12</th>\n",
       "      <td>2014</td>\n",
       "      <td>440</td>\n",
       "      <td>Team Fortress 2</td>\n",
       "      <td>1397</td>\n",
       "    </tr>\n",
       "    <tr>\n",
       "      <th>13</th>\n",
       "      <td>2014</td>\n",
       "      <td>730</td>\n",
       "      <td>Counter-Strike: Global Offensive</td>\n",
       "      <td>932</td>\n",
       "    </tr>\n",
       "    <tr>\n",
       "      <th>14</th>\n",
       "      <td>2014</td>\n",
       "      <td>4000</td>\n",
       "      <td>Garry's Mod</td>\n",
       "      <td>667</td>\n",
       "    </tr>\n",
       "    <tr>\n",
       "      <th>15</th>\n",
       "      <td>2015</td>\n",
       "      <td>730</td>\n",
       "      <td>Counter-Strike: Global Offensive</td>\n",
       "      <td>1305</td>\n",
       "    </tr>\n",
       "    <tr>\n",
       "      <th>16</th>\n",
       "      <td>2015</td>\n",
       "      <td>440</td>\n",
       "      <td>Team Fortress 2</td>\n",
       "      <td>582</td>\n",
       "    </tr>\n",
       "    <tr>\n",
       "      <th>17</th>\n",
       "      <td>2015</td>\n",
       "      <td>4000</td>\n",
       "      <td>Garry's Mod</td>\n",
       "      <td>294</td>\n",
       "    </tr>\n",
       "  </tbody>\n",
       "</table>\n",
       "</div>"
      ],
      "text/plain": [
       "    year_posted  item_id                          app_name  \\\n",
       "0          2010      440                   Team Fortress 2   \n",
       "1          2010     1250                     Killing Floor   \n",
       "2          2010      630                       Alien Swarm   \n",
       "3          2011      440                   Team Fortress 2   \n",
       "4          2011      620                          Portal 2   \n",
       "5          2011   105600                          Terraria   \n",
       "6          2012      440                   Team Fortress 2   \n",
       "7          2012     4000                       Garry's Mod   \n",
       "8          2012   105600                          Terraria   \n",
       "9          2013      440                   Team Fortress 2   \n",
       "10         2013      730  Counter-Strike: Global Offensive   \n",
       "11         2013     4000                       Garry's Mod   \n",
       "12         2014      440                   Team Fortress 2   \n",
       "13         2014      730  Counter-Strike: Global Offensive   \n",
       "14         2014     4000                       Garry's Mod   \n",
       "15         2015      730  Counter-Strike: Global Offensive   \n",
       "16         2015      440                   Team Fortress 2   \n",
       "17         2015     4000                       Garry's Mod   \n",
       "\n",
       "    recommendation_count  \n",
       "0                     10  \n",
       "1                      6  \n",
       "2                      4  \n",
       "3                     72  \n",
       "4                     24  \n",
       "5                     20  \n",
       "6                    234  \n",
       "7                     36  \n",
       "8                     36  \n",
       "9                    938  \n",
       "10                   708  \n",
       "11                   423  \n",
       "12                  1397  \n",
       "13                   932  \n",
       "14                   667  \n",
       "15                  1305  \n",
       "16                   582  \n",
       "17                   294  "
      ]
     },
     "execution_count": 12,
     "metadata": {},
     "output_type": "execute_result"
    }
   ],
   "source": [
    "df_UsersRecommend = pd.read_csv(\"data2/df_UsersRecommend2.csv\")\n",
    "df_UsersRecommend"
   ]
  },
  {
   "cell_type": "code",
   "execution_count": 17,
   "metadata": {},
   "outputs": [],
   "source": [
    "def UsersRecommend( año : int ):\n",
    "    \"\"\"\n",
    "    Funcion que devuelve el top 3 de juegos MÁS recomendados por usuarios para el año dado.\n",
    "    \"\"\"\n",
    "    df_año= df_UsersRecommend[df_UsersRecommend[\"year_posted\"]== año]\n",
    "    if df_año.empty:\n",
    "        return \"Año ingresado inválido o sin revisiones.\"\n",
    "    df_ordenado_recomendacion = df_año.sort_values(by=\"recommendation_count\", ascending=False)\n",
    "    top_3_juegos = df_ordenado_recomendacion.head(3)[[\"app_name\",\"recommendation_count\"]]\n",
    "    result3 ={\n",
    "        \"Año\": año,\n",
    "        \"Top 3 Juegos Más Recomendados\": top_3_juegos.to_dict(orient=\"records\")\n",
    "    }\n",
    "    return result3"
   ]
  },
  {
   "cell_type": "code",
   "execution_count": 21,
   "metadata": {},
   "outputs": [
    {
     "data": {
      "text/plain": [
       "{'Año': 2012,\n",
       " 'Top 3 Juegos Más Recomendados': [{'app_name': 'Team Fortress 2',\n",
       "   'recommendation_count': 234},\n",
       "  {'app_name': \"Garry's Mod\", 'recommendation_count': 36},\n",
       "  {'app_name': 'Terraria', 'recommendation_count': 36}]}"
      ]
     },
     "execution_count": 21,
     "metadata": {},
     "output_type": "execute_result"
    }
   ],
   "source": [
    "UsersRecommend(2012)"
   ]
  },
  {
   "cell_type": "markdown",
   "metadata": {},
   "source": [
    "## Funcion UsersWorstDeveloper"
   ]
  },
  {
   "cell_type": "code",
   "execution_count": 19,
   "metadata": {},
   "outputs": [
    {
     "data": {
      "text/html": [
       "<div>\n",
       "<style scoped>\n",
       "    .dataframe tbody tr th:only-of-type {\n",
       "        vertical-align: middle;\n",
       "    }\n",
       "\n",
       "    .dataframe tbody tr th {\n",
       "        vertical-align: top;\n",
       "    }\n",
       "\n",
       "    .dataframe thead th {\n",
       "        text-align: right;\n",
       "    }\n",
       "</style>\n",
       "<table border=\"1\" class=\"dataframe\">\n",
       "  <thead>\n",
       "    <tr style=\"text-align: right;\">\n",
       "      <th></th>\n",
       "      <th>year_posted</th>\n",
       "      <th>item_id</th>\n",
       "      <th>developer</th>\n",
       "      <th>recommendation_count</th>\n",
       "    </tr>\n",
       "  </thead>\n",
       "  <tbody>\n",
       "    <tr>\n",
       "      <th>0</th>\n",
       "      <td>2011</td>\n",
       "      <td>440</td>\n",
       "      <td>Valve</td>\n",
       "      <td>1</td>\n",
       "    </tr>\n",
       "    <tr>\n",
       "      <th>1</th>\n",
       "      <td>2011</td>\n",
       "      <td>18700</td>\n",
       "      <td>Broken Rules</td>\n",
       "      <td>1</td>\n",
       "    </tr>\n",
       "    <tr>\n",
       "      <th>2</th>\n",
       "      <td>2011</td>\n",
       "      <td>33460</td>\n",
       "      <td>Ubisoft Montpellier</td>\n",
       "      <td>1</td>\n",
       "    </tr>\n",
       "    <tr>\n",
       "      <th>3</th>\n",
       "      <td>2012</td>\n",
       "      <td>440</td>\n",
       "      <td>Valve</td>\n",
       "      <td>1</td>\n",
       "    </tr>\n",
       "    <tr>\n",
       "      <th>4</th>\n",
       "      <td>2012</td>\n",
       "      <td>42920</td>\n",
       "      <td>NeoCoreGames</td>\n",
       "      <td>1</td>\n",
       "    </tr>\n",
       "    <tr>\n",
       "      <th>5</th>\n",
       "      <td>2012</td>\n",
       "      <td>55110</td>\n",
       "      <td>Volition</td>\n",
       "      <td>1</td>\n",
       "    </tr>\n",
       "    <tr>\n",
       "      <th>6</th>\n",
       "      <td>2013</td>\n",
       "      <td>275850</td>\n",
       "      <td>Hello Games</td>\n",
       "      <td>52</td>\n",
       "    </tr>\n",
       "    <tr>\n",
       "      <th>7</th>\n",
       "      <td>2013</td>\n",
       "      <td>730</td>\n",
       "      <td>Valve</td>\n",
       "      <td>32</td>\n",
       "    </tr>\n",
       "    <tr>\n",
       "      <th>8</th>\n",
       "      <td>2013</td>\n",
       "      <td>440</td>\n",
       "      <td>Valve</td>\n",
       "      <td>25</td>\n",
       "    </tr>\n",
       "    <tr>\n",
       "      <th>9</th>\n",
       "      <td>2014</td>\n",
       "      <td>221100</td>\n",
       "      <td>Bohemia Interactive</td>\n",
       "      <td>19</td>\n",
       "    </tr>\n",
       "    <tr>\n",
       "      <th>10</th>\n",
       "      <td>2014</td>\n",
       "      <td>730</td>\n",
       "      <td>Valve</td>\n",
       "      <td>15</td>\n",
       "    </tr>\n",
       "    <tr>\n",
       "      <th>11</th>\n",
       "      <td>2014</td>\n",
       "      <td>104900</td>\n",
       "      <td>Trek Industries, Inc</td>\n",
       "      <td>14</td>\n",
       "    </tr>\n",
       "    <tr>\n",
       "      <th>12</th>\n",
       "      <td>2015</td>\n",
       "      <td>730</td>\n",
       "      <td>Valve</td>\n",
       "      <td>45</td>\n",
       "    </tr>\n",
       "    <tr>\n",
       "      <th>13</th>\n",
       "      <td>2015</td>\n",
       "      <td>221100</td>\n",
       "      <td>Bohemia Interactive</td>\n",
       "      <td>29</td>\n",
       "    </tr>\n",
       "    <tr>\n",
       "      <th>14</th>\n",
       "      <td>2015</td>\n",
       "      <td>252490</td>\n",
       "      <td>Facepunch Studios</td>\n",
       "      <td>19</td>\n",
       "    </tr>\n",
       "  </tbody>\n",
       "</table>\n",
       "</div>"
      ],
      "text/plain": [
       "    year_posted  item_id             developer  recommendation_count\n",
       "0          2011      440                 Valve                     1\n",
       "1          2011    18700          Broken Rules                     1\n",
       "2          2011    33460   Ubisoft Montpellier                     1\n",
       "3          2012      440                 Valve                     1\n",
       "4          2012    42920          NeoCoreGames                     1\n",
       "5          2012    55110              Volition                     1\n",
       "6          2013   275850           Hello Games                    52\n",
       "7          2013      730                 Valve                    32\n",
       "8          2013      440                 Valve                    25\n",
       "9          2014   221100   Bohemia Interactive                    19\n",
       "10         2014      730                 Valve                    15\n",
       "11         2014   104900  Trek Industries, Inc                    14\n",
       "12         2015      730                 Valve                    45\n",
       "13         2015   221100   Bohemia Interactive                    29\n",
       "14         2015   252490     Facepunch Studios                    19"
      ]
     },
     "execution_count": 19,
     "metadata": {},
     "output_type": "execute_result"
    }
   ],
   "source": [
    "df_UsersWorstDeveloper = pd.read_csv(\"data2/df_UsersWorstDeveloper.csv\")\n",
    "df_UsersWorstDeveloper"
   ]
  },
  {
   "cell_type": "code",
   "execution_count": 22,
   "metadata": {},
   "outputs": [],
   "source": [
    "def UsersWorstDeveloper( año : int ):\n",
    "    \"\"\"\n",
    "    Funcion que devuelve el top 3 de desarrolladoras con juegos MENOS \n",
    "    recomendados por usuarios para el año dado.\n",
    "    \"\"\"\n",
    "    df_año2 = df_UsersWorstDeveloper[df_UsersWorstDeveloper[\"year_posted\"]== año]\n",
    "    if df_año2.empty:\n",
    "        return \"Año ingresado inválido o sin revisiones.\"\n",
    "    df_ordenado_recomendacion2 = df_año2.sort_values(by=\"recommendation_count\")\n",
    "    top_3_developers = df_ordenado_recomendacion2.head(3)[[\"developer\",\"recommendation_count\"]]\n",
    "    result4 = {\n",
    "        'Año': año,\n",
    "        'Top 3 Desarrolladoras Menos Recomendadas': top_3_developers.to_dict(orient=\"records\")\n",
    "    }\n",
    "    return result4"
   ]
  },
  {
   "cell_type": "code",
   "execution_count": 26,
   "metadata": {},
   "outputs": [
    {
     "data": {
      "text/plain": [
       "{'Año': 2013,\n",
       " 'Top 3 Desarrolladoras Menos Recomendadas': [{'developer': 'Valve',\n",
       "   'recommendation_count': 25},\n",
       "  {'developer': 'Valve', 'recommendation_count': 32},\n",
       "  {'developer': 'Hello Games', 'recommendation_count': 52}]}"
      ]
     },
     "execution_count": 26,
     "metadata": {},
     "output_type": "execute_result"
    }
   ],
   "source": [
    "UsersWorstDeveloper(2013)"
   ]
  },
  {
   "cell_type": "markdown",
   "metadata": {},
   "source": [
    "## Funciones sentiment_analysis"
   ]
  },
  {
   "cell_type": "code",
   "execution_count": 25,
   "metadata": {},
   "outputs": [
    {
     "data": {
      "text/html": [
       "<div>\n",
       "<style scoped>\n",
       "    .dataframe tbody tr th:only-of-type {\n",
       "        vertical-align: middle;\n",
       "    }\n",
       "\n",
       "    .dataframe tbody tr th {\n",
       "        vertical-align: top;\n",
       "    }\n",
       "\n",
       "    .dataframe thead th {\n",
       "        text-align: right;\n",
       "    }\n",
       "</style>\n",
       "<table border=\"1\" class=\"dataframe\">\n",
       "  <thead>\n",
       "    <tr style=\"text-align: right;\">\n",
       "      <th></th>\n",
       "      <th>developer</th>\n",
       "      <th>sentiment_analysis</th>\n",
       "      <th>sentiment_analysis_count</th>\n",
       "    </tr>\n",
       "  </thead>\n",
       "  <tbody>\n",
       "    <tr>\n",
       "      <th>0</th>\n",
       "      <td>07th Expansion</td>\n",
       "      <td>0</td>\n",
       "      <td>1</td>\n",
       "    </tr>\n",
       "    <tr>\n",
       "      <th>1</th>\n",
       "      <td>07th Expansion</td>\n",
       "      <td>1</td>\n",
       "      <td>2</td>\n",
       "    </tr>\n",
       "    <tr>\n",
       "      <th>2</th>\n",
       "      <td>10th Art Studio,Adventure Productions</td>\n",
       "      <td>0</td>\n",
       "      <td>1</td>\n",
       "    </tr>\n",
       "    <tr>\n",
       "      <th>3</th>\n",
       "      <td>10th Art Studio,Adventure Productions</td>\n",
       "      <td>1</td>\n",
       "      <td>1</td>\n",
       "    </tr>\n",
       "    <tr>\n",
       "      <th>4</th>\n",
       "      <td>10tons Ltd</td>\n",
       "      <td>1</td>\n",
       "      <td>1</td>\n",
       "    </tr>\n",
       "    <tr>\n",
       "      <th>...</th>\n",
       "      <td>...</td>\n",
       "      <td>...</td>\n",
       "      <td>...</td>\n",
       "    </tr>\n",
       "    <tr>\n",
       "      <th>3960</th>\n",
       "      <td>インレ,Inre</td>\n",
       "      <td>1</td>\n",
       "      <td>4</td>\n",
       "    </tr>\n",
       "    <tr>\n",
       "      <th>3961</th>\n",
       "      <td>橘子班</td>\n",
       "      <td>0</td>\n",
       "      <td>1</td>\n",
       "    </tr>\n",
       "    <tr>\n",
       "      <th>3962</th>\n",
       "      <td>橘子班</td>\n",
       "      <td>1</td>\n",
       "      <td>2</td>\n",
       "    </tr>\n",
       "    <tr>\n",
       "      <th>3963</th>\n",
       "      <td>橘子班</td>\n",
       "      <td>2</td>\n",
       "      <td>1</td>\n",
       "    </tr>\n",
       "    <tr>\n",
       "      <th>3964</th>\n",
       "      <td>高考恋爱委员会,橘子班</td>\n",
       "      <td>1</td>\n",
       "      <td>2</td>\n",
       "    </tr>\n",
       "  </tbody>\n",
       "</table>\n",
       "<p>3965 rows × 3 columns</p>\n",
       "</div>"
      ],
      "text/plain": [
       "                                  developer  sentiment_analysis  \\\n",
       "0                            07th Expansion                   0   \n",
       "1                            07th Expansion                   1   \n",
       "2     10th Art Studio,Adventure Productions                   0   \n",
       "3     10th Art Studio,Adventure Productions                   1   \n",
       "4                                10tons Ltd                   1   \n",
       "...                                     ...                 ...   \n",
       "3960                               インレ,Inre                   1   \n",
       "3961                                    橘子班                   0   \n",
       "3962                                    橘子班                   1   \n",
       "3963                                    橘子班                   2   \n",
       "3964                            高考恋爱委员会,橘子班                   1   \n",
       "\n",
       "      sentiment_analysis_count  \n",
       "0                            1  \n",
       "1                            2  \n",
       "2                            1  \n",
       "3                            1  \n",
       "4                            1  \n",
       "...                        ...  \n",
       "3960                         4  \n",
       "3961                         1  \n",
       "3962                         2  \n",
       "3963                         1  \n",
       "3964                         2  \n",
       "\n",
       "[3965 rows x 3 columns]"
      ]
     },
     "execution_count": 25,
     "metadata": {},
     "output_type": "execute_result"
    }
   ],
   "source": [
    "df_Sentiment_Analysis = pd.read_csv(\"data2/df_Sentiment_analysis.csv\")\n",
    "df_Sentiment_Analysis"
   ]
  },
  {
   "cell_type": "code",
   "execution_count": null,
   "metadata": {},
   "outputs": [],
   "source": [
    "def sentiment_analysis( desarrolladora : str ):\n",
    "    \"\"\"\n",
    "    Funcion que devuelve un diccionario con el nombre de la desarrolladora como llave y una lista \n",
    "    con la cantidad total de registros de reseñas de usuarios que se encuentren categorizados con \n",
    "    un análisis de sentimiento como valor.\n",
    "    \"\"\"\n",
    "    df_developer = df_Sentiment_Analysis[df_Sentiment_Analysis[\"developer\"]== desarrolladora]\n",
    "    "
   ]
  }
 ],
 "metadata": {
  "kernelspec": {
   "display_name": "Python 3",
   "language": "python",
   "name": "python3"
  },
  "language_info": {
   "codemirror_mode": {
    "name": "ipython",
    "version": 3
   },
   "file_extension": ".py",
   "mimetype": "text/x-python",
   "name": "python",
   "nbconvert_exporter": "python",
   "pygments_lexer": "ipython3",
   "version": "3.11.6"
  }
 },
 "nbformat": 4,
 "nbformat_minor": 2
}
