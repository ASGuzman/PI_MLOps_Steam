{
 "cells": [
  {
   "cell_type": "markdown",
   "metadata": {},
   "source": [
    "# Experimentación para la Elaboración de Funciones Cruciales para la API:\n",
    "En esta fase, llevamos a cabo la creación y prueba de funciones esenciales para nuestra API, utilizando los datos disponibles. Este enfoque nos permite verificar la efectividad y eficiencia de las funciones en un entorno controlado. No obstante, al implementarlas finalmente, es posible que se requieran adaptaciones para cumplir con los requisitos específicos de FastAPI y Render."
   ]
  },
  {
   "cell_type": "code",
   "execution_count": 1,
   "metadata": {},
   "outputs": [],
   "source": [
    "import pandas as pd\n",
    "import warnings\n",
    "warnings.filterwarnings(\"ignore\")"
   ]
  },
  {
   "cell_type": "markdown",
   "metadata": {},
   "source": [
    "## Funcion PlayTimeGenre"
   ]
  },
  {
   "cell_type": "code",
   "execution_count": 3,
   "metadata": {},
   "outputs": [
    {
     "data": {
      "text/plain": [
       "Index(['main_genre', 'release_year', 'playtime_hour'], dtype='object')"
      ]
     },
     "execution_count": 3,
     "metadata": {},
     "output_type": "execute_result"
    }
   ],
   "source": [
    "df_PlayTimeGenre = pd.read_csv(\"data2/df_PlayTimeGenre_hour.csv\")\n",
    "df_PlayTimeGenre.columns"
   ]
  },
  {
   "cell_type": "code",
   "execution_count": 4,
   "metadata": {},
   "outputs": [],
   "source": [
    "def PlayTimeGenre( genero : str ):\n",
    "    \"\"\"\n",
    "    Funcion que devuelve el año con mas horas jugadas para dicho género.\n",
    "    \"\"\"\n",
    "    generos = df_PlayTimeGenre[df_PlayTimeGenre[\"main_genre\"]== genero] #Filtramos en el dataframe el genero que fue solicitado\n",
    "    if generos.empty:  #Con esta linea nos aseguramos que si para ese genero no hay resultado se notifique\n",
    "        return f\"No se encontraron datos para el género {genero}\"\n",
    "    año_max = generos.loc[generos[\"playtime_hour\"].idxmax()] #Primero identificamos la fila (indice) que tiene la máxima cantidad de horas jugadas para el género dado y posteriormente se selecciona esa fila a partir del indice\n",
    "    result = {\n",
    "        'Genero': genero,\n",
    "        'Año con Más Horas Jugadas': int(año_max[\"release_year\"]),\n",
    "        'Total de Horas Jugadas': año_max[\"playtime_hour\"]\n",
    "    }\n",
    "\n",
    "    return result"
   ]
  },
  {
   "cell_type": "code",
   "execution_count": 10,
   "metadata": {},
   "outputs": [
    {
     "data": {
      "text/plain": [
       "'No se encontraron datos para el género Free To Play'"
      ]
     },
     "execution_count": 10,
     "metadata": {},
     "output_type": "execute_result"
    }
   ],
   "source": [
    "PlayTimeGenre(\"Free To Play\")"
   ]
  },
  {
   "cell_type": "markdown",
   "metadata": {},
   "source": [
    "## Funcion UserForGenre"
   ]
  },
  {
   "cell_type": "code",
   "execution_count": 8,
   "metadata": {},
   "outputs": [
    {
     "data": {
      "text/plain": [
       "Index(['user_id', 'main_genre', 'release_year', 'playtime_hour'], dtype='object')"
      ]
     },
     "execution_count": 8,
     "metadata": {},
     "output_type": "execute_result"
    }
   ],
   "source": [
    "df_UserForGenre = pd.read_csv(\"data2\\df_UsersForGenre2.csv\")\n",
    "df_UserForGenre.columns"
   ]
  },
  {
   "cell_type": "code",
   "execution_count": 11,
   "metadata": {},
   "outputs": [],
   "source": [
    "def UserForGenre( genero : str ):\n",
    "    \"\"\"\n",
    "    Funcion que devuelve el usuario que acumula más horas jugadas para el género dado \n",
    "    y una lista de la acumulación de horas jugadas por año.\n",
    "    \"\"\"\n",
    "    generos2 = df_UserForGenre[df_UserForGenre[\"main_genre\"]== genero]\n",
    "    user_max = generos2.loc[generos2[\"playtime_hour\"].idxmax()][\"user_id\"]\n",
    "    horas_x_año = generos2.groupby([\"release_year\"])[\"playtime_hour\"].sum().reset_index()\n",
    "    horas_lista = horas_x_año.to_dict(orient=\"records\")\n",
    "    result2 = {\n",
    "        \"Genero\": genero,\n",
    "        \"Usuario con Más Horas Jugadas\": user_max,\n",
    "        \"Total de Horas Jugadas Por Año\": horas_lista\n",
    "    }\n",
    "    return result2"
   ]
  },
  {
   "cell_type": "code",
   "execution_count": 13,
   "metadata": {},
   "outputs": [
    {
     "data": {
      "text/plain": [
       "{'Genero': 'Action',\n",
       " 'Usuario con Más Horas Jugadas': 'shinomegami',\n",
       " 'Total de Horas Jugadas Por Año': [{'release_year': 1990,\n",
       "   'playtime_hour': 2.3666666666666667},\n",
       "  {'release_year': 1991, 'playtime_hour': 0.6833333333333333},\n",
       "  {'release_year': 1992, 'playtime_hour': 0.1666666666666666},\n",
       "  {'release_year': 1993, 'playtime_hour': 0.1166666666666666},\n",
       "  {'release_year': 1994, 'playtime_hour': 27.433333333333334},\n",
       "  {'release_year': 1995, 'playtime_hour': 186.25},\n",
       "  {'release_year': 1996, 'playtime_hour': 1.4},\n",
       "  {'release_year': 1997, 'playtime_hour': 15.983333333333334},\n",
       "  {'release_year': 1998, 'playtime_hour': 113.18333333333334},\n",
       "  {'release_year': 1999, 'playtime_hour': 1277.4},\n",
       "  {'release_year': 2000, 'playtime_hour': 122.46666666666667},\n",
       "  {'release_year': 2001, 'playtime_hour': 21.3},\n",
       "  {'release_year': 2002, 'playtime_hour': 195.33333333333334},\n",
       "  {'release_year': 2003, 'playtime_hour': 20109.35},\n",
       "  {'release_year': 2004, 'playtime_hour': 212.06666666666666},\n",
       "  {'release_year': 2005, 'playtime_hour': 759.3833333333333},\n",
       "  {'release_year': 2006, 'playtime_hour': 3482.9},\n",
       "  {'release_year': 2007, 'playtime_hour': 4217.116666666667},\n",
       "  {'release_year': 2008, 'playtime_hour': 2395.3333333333335},\n",
       "  {'release_year': 2009, 'playtime_hour': 113334.91666666667},\n",
       "  {'release_year': 2010, 'playtime_hour': 7178.466666666666},\n",
       "  {'release_year': 2011, 'playtime_hour': 264067.76666666666},\n",
       "  {'release_year': 2012, 'playtime_hour': 232481.71666666667},\n",
       "  {'release_year': 2013, 'playtime_hour': 622142.4},\n",
       "  {'release_year': 2014, 'playtime_hour': 71330.05},\n",
       "  {'release_year': 2015, 'playtime_hour': 174223.08333333334},\n",
       "  {'release_year': 2016, 'playtime_hour': 56015.28333333333},\n",
       "  {'release_year': 2017, 'playtime_hour': 112527.23333333334}]}"
      ]
     },
     "execution_count": 13,
     "metadata": {},
     "output_type": "execute_result"
    }
   ],
   "source": [
    "UserForGenre(\"Action\")"
   ]
  }
 ],
 "metadata": {
  "kernelspec": {
   "display_name": "Python 3",
   "language": "python",
   "name": "python3"
  },
  "language_info": {
   "codemirror_mode": {
    "name": "ipython",
    "version": 3
   },
   "file_extension": ".py",
   "mimetype": "text/x-python",
   "name": "python",
   "nbconvert_exporter": "python",
   "pygments_lexer": "ipython3",
   "version": "3.11.6"
  }
 },
 "nbformat": 4,
 "nbformat_minor": 2
}
