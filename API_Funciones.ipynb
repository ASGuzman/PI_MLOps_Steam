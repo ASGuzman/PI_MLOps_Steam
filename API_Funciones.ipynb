{
 "cells": [
  {
   "cell_type": "markdown",
   "metadata": {},
   "source": [
    "# Experimentación para la Elaboración de Funciones Cruciales para la API:\n",
    "En esta fase, llevamos a cabo la creación y prueba de funciones esenciales para nuestra API, utilizando los datos disponibles. Este enfoque nos permite verificar la efectividad y eficiencia de las funciones en un entorno controlado. No obstante, al implementarlas finalmente, es posible que se requieran adaptaciones para cumplir con los requisitos específicos de FastAPI y Render."
   ]
  },
  {
   "cell_type": "code",
   "execution_count": 1,
   "metadata": {},
   "outputs": [],
   "source": [
    "import pandas as pd\n",
    "import warnings\n",
    "warnings.filterwarnings(\"ignore\")"
   ]
  },
  {
   "cell_type": "markdown",
   "metadata": {},
   "source": [
    "## Funcion PlayTimeGenre"
   ]
  },
  {
   "cell_type": "code",
   "execution_count": 44,
   "metadata": {},
   "outputs": [
    {
     "data": {
      "text/plain": [
       "Index(['main_genre', 'release_year', 'playtime_hour'], dtype='object')"
      ]
     },
     "execution_count": 44,
     "metadata": {},
     "output_type": "execute_result"
    }
   ],
   "source": [
    "df_PlayTimeGenre = pd.read_csv(\"data2/df_PlayTimeGenre_hour_final1.csv\")\n",
    "df_PlayTimeGenre.columns"
   ]
  },
  {
   "cell_type": "code",
   "execution_count": 45,
   "metadata": {},
   "outputs": [],
   "source": [
    "def PlayTimeGenre( genero : str ):\n",
    "    \"\"\"\n",
    "    Funcion que devuelve el año con mas horas jugadas para dicho género.\n",
    "    \"\"\"\n",
    "    generos = df_PlayTimeGenre[df_PlayTimeGenre[\"main_genre\"]== genero] #Filtramos en el dataframe el genero que fue solicitado\n",
    "    if generos.empty:  #Con esta linea nos aseguramos que si para ese genero no hay resultado se notifique\n",
    "        return f\"No se encontraron datos para el género {genero}\"\n",
    "    año_max = generos.loc[generos[\"playtime_hour\"].idxmax()] #Primero identificamos la fila (indice) que tiene la máxima cantidad de horas jugadas para el género dado y posteriormente se selecciona esa fila a partir del indice\n",
    "    result = {\n",
    "        'Genero': genero,\n",
    "        'Año con Más Horas Jugadas': int(año_max[\"release_year\"]),\n",
    "        'Total de Horas Jugadas': año_max[\"playtime_hour\"]\n",
    "    }\n",
    "\n",
    "    return result"
   ]
  },
  {
   "cell_type": "code",
   "execution_count": 75,
   "metadata": {},
   "outputs": [
    {
     "data": {
      "text/plain": [
       "{'Genero': 'Action',\n",
       " 'Año con Más Horas Jugadas': 2013,\n",
       " 'Total de Horas Jugadas': 6419735.3}"
      ]
     },
     "execution_count": 75,
     "metadata": {},
     "output_type": "execute_result"
    }
   ],
   "source": [
    "PlayTimeGenre(\"Action\")"
   ]
  },
  {
   "cell_type": "markdown",
   "metadata": {},
   "source": [
    "## Funcion UserForGenre"
   ]
  },
  {
   "cell_type": "code",
   "execution_count": 2,
   "metadata": {},
   "outputs": [
    {
     "data": {
      "text/plain": [
       "Index(['user_id', 'main_genre', 'release_year', 'playtime_hour'], dtype='object')"
      ]
     },
     "execution_count": 2,
     "metadata": {},
     "output_type": "execute_result"
    }
   ],
   "source": [
    "df_UserForGenre = pd.read_csv(\"data2\\df_UsersForGenre2_final.csv\")\n",
    "df_UserForGenre.columns"
   ]
  },
  {
   "cell_type": "code",
   "execution_count": 4,
   "metadata": {},
   "outputs": [],
   "source": [
    "def UserForGenre( genero : str ):\n",
    "    \"\"\"\n",
    "    Funcion que devuelve el usuario que acumula más horas jugadas para el género dado \n",
    "    y una lista de la acumulación de horas jugadas por año.\n",
    "    \"\"\"\n",
    "    generos2 = df_UserForGenre[df_UserForGenre[\"main_genre\"]== genero]\n",
    "    user_max = generos2.loc[generos2[\"playtime_hour\"].idxmax()][\"user_id\"]\n",
    "    horas_x_año = generos2.groupby([\"release_year\"])[\"playtime_hour\"].sum().reset_index()\n",
    "    horas_lista = horas_x_año.rename(columns={\"release_year\": \"Año\", \"playtime_hour\": \"Horas\"}).to_dict(orient=\"records\")    \n",
    "    result2 = {\n",
    "        \"Genero\": genero,\n",
    "        \"Usuario con Más Horas Jugadas\": user_max,\n",
    "        \"Total de Horas Jugadas Por Año\": horas_lista\n",
    "    }\n",
    "    return result2"
   ]
  },
  {
   "cell_type": "code",
   "execution_count": 5,
   "metadata": {},
   "outputs": [
    {
     "data": {
      "text/plain": [
       "{'Genero': 'RPG',\n",
       " 'Usuario con Más Horas Jugadas': '76561198032459795',\n",
       " 'Total de Horas Jugadas Por Año': [{'Año': 1997, 'Horas': 38.58333333333333},\n",
       "  {'Año': 1998, 'Horas': 329.53333333333336},\n",
       "  {'Año': 2002, 'Horas': 12.483333333333333},\n",
       "  {'Año': 2003, 'Horas': 33.21666666666667},\n",
       "  {'Año': 2004, 'Horas': 4.516666666666667},\n",
       "  {'Año': 2005, 'Horas': 68.63333333333334},\n",
       "  {'Año': 2007, 'Horas': 142.06666666666666},\n",
       "  {'Año': 2008, 'Horas': 1680.6833333333332},\n",
       "  {'Año': 2009, 'Horas': 303.5333333333333},\n",
       "  {'Año': 2010, 'Horas': 1059.6666666666667},\n",
       "  {'Año': 2011, 'Horas': 142.81666666666666},\n",
       "  {'Año': 2012, 'Horas': 17676.55},\n",
       "  {'Año': 2013, 'Horas': 1661.2333333333333},\n",
       "  {'Año': 2014, 'Horas': 2739.2833333333333},\n",
       "  {'Año': 2015, 'Horas': 29931.9},\n",
       "  {'Año': 2016, 'Horas': 27.53333333333333}]}"
      ]
     },
     "execution_count": 5,
     "metadata": {},
     "output_type": "execute_result"
    }
   ],
   "source": [
    "UserForGenre(\"RPG\")"
   ]
  },
  {
   "cell_type": "code",
   "execution_count": 67,
   "metadata": {},
   "outputs": [
    {
     "data": {
      "text/plain": [
       "Index(['user_id', 'main_genre', 'year_posted', 'playtime_hour'], dtype='object')"
      ]
     },
     "execution_count": 67,
     "metadata": {},
     "output_type": "execute_result"
    }
   ],
   "source": [
    "df_UserForGenre3 = pd.read_csv(\"data2/df_UsersForGenre3_final.csv\")\n",
    "df_UserForGenre3.columns"
   ]
  },
  {
   "cell_type": "code",
   "execution_count": 68,
   "metadata": {},
   "outputs": [],
   "source": [
    "def UserForGenre3( genero : str ):\n",
    "    \"\"\"\n",
    "    Funcion que devuelve el usuario que acumula más horas jugadas para el género dado \n",
    "    y una lista de la acumulación de horas jugadas por año.\n",
    "    \"\"\"\n",
    "    generos3 = df_UserForGenre3[df_UserForGenre3[\"main_genre\"]== genero]\n",
    "    user_max3 = generos3.loc[generos3[\"playtime_hour\"].idxmax()][\"user_id\"]\n",
    "    horas_x_año3 = generos3.groupby([\"year_posted\"])[\"playtime_hour\"].sum().reset_index()\n",
    "    horas_lista3 = horas_x_año3.to_dict(orient=\"records\")\n",
    "    result6 = {\n",
    "        \"Genero\": genero,\n",
    "        \"Usuario con Más Horas Jugadas\": user_max3,\n",
    "        \"Total de Horas Jugadas Por Año\": horas_lista3\n",
    "    }\n",
    "    return result6"
   ]
  },
  {
   "cell_type": "code",
   "execution_count": 69,
   "metadata": {},
   "outputs": [
    {
     "data": {
      "text/plain": [
       "{'Genero': 'Adventure',\n",
       " 'Usuario con Más Horas Jugadas': '76561197972452208',\n",
       " 'Total de Horas Jugadas Por Año': [{'year_posted': 2010,\n",
       "   'playtime_hour': 5.233333333333333},\n",
       "  {'year_posted': 2011, 'playtime_hour': 16.5},\n",
       "  {'year_posted': 2012, 'playtime_hour': 463.45},\n",
       "  {'year_posted': 2013, 'playtime_hour': 18430.966666666667},\n",
       "  {'year_posted': 2014, 'playtime_hour': 8068.583333333333},\n",
       "  {'year_posted': 2015, 'playtime_hour': 24429.566666666666}]}"
      ]
     },
     "execution_count": 69,
     "metadata": {},
     "output_type": "execute_result"
    }
   ],
   "source": [
    "UserForGenre3(\"Adventure\")"
   ]
  },
  {
   "cell_type": "markdown",
   "metadata": {},
   "source": [
    "## Funcion UsersRecommend"
   ]
  },
  {
   "cell_type": "code",
   "execution_count": 55,
   "metadata": {},
   "outputs": [
    {
     "data": {
      "text/html": [
       "<div>\n",
       "<style scoped>\n",
       "    .dataframe tbody tr th:only-of-type {\n",
       "        vertical-align: middle;\n",
       "    }\n",
       "\n",
       "    .dataframe tbody tr th {\n",
       "        vertical-align: top;\n",
       "    }\n",
       "\n",
       "    .dataframe thead th {\n",
       "        text-align: right;\n",
       "    }\n",
       "</style>\n",
       "<table border=\"1\" class=\"dataframe\">\n",
       "  <thead>\n",
       "    <tr style=\"text-align: right;\">\n",
       "      <th></th>\n",
       "      <th>year_posted</th>\n",
       "      <th>item_id</th>\n",
       "      <th>app_name</th>\n",
       "      <th>recommendation_count</th>\n",
       "    </tr>\n",
       "  </thead>\n",
       "  <tbody>\n",
       "    <tr>\n",
       "      <th>0</th>\n",
       "      <td>2010</td>\n",
       "      <td>440</td>\n",
       "      <td>Team Fortress 2</td>\n",
       "      <td>10</td>\n",
       "    </tr>\n",
       "    <tr>\n",
       "      <th>1</th>\n",
       "      <td>2010</td>\n",
       "      <td>1250</td>\n",
       "      <td>Killing Floor</td>\n",
       "      <td>6</td>\n",
       "    </tr>\n",
       "    <tr>\n",
       "      <th>2</th>\n",
       "      <td>2010</td>\n",
       "      <td>630</td>\n",
       "      <td>Alien Swarm</td>\n",
       "      <td>4</td>\n",
       "    </tr>\n",
       "    <tr>\n",
       "      <th>3</th>\n",
       "      <td>2011</td>\n",
       "      <td>440</td>\n",
       "      <td>Team Fortress 2</td>\n",
       "      <td>72</td>\n",
       "    </tr>\n",
       "    <tr>\n",
       "      <th>4</th>\n",
       "      <td>2011</td>\n",
       "      <td>620</td>\n",
       "      <td>Portal 2</td>\n",
       "      <td>24</td>\n",
       "    </tr>\n",
       "    <tr>\n",
       "      <th>5</th>\n",
       "      <td>2011</td>\n",
       "      <td>105600</td>\n",
       "      <td>Terraria</td>\n",
       "      <td>20</td>\n",
       "    </tr>\n",
       "    <tr>\n",
       "      <th>6</th>\n",
       "      <td>2012</td>\n",
       "      <td>440</td>\n",
       "      <td>Team Fortress 2</td>\n",
       "      <td>234</td>\n",
       "    </tr>\n",
       "    <tr>\n",
       "      <th>7</th>\n",
       "      <td>2012</td>\n",
       "      <td>4000</td>\n",
       "      <td>Garry's Mod</td>\n",
       "      <td>36</td>\n",
       "    </tr>\n",
       "    <tr>\n",
       "      <th>8</th>\n",
       "      <td>2012</td>\n",
       "      <td>105600</td>\n",
       "      <td>Terraria</td>\n",
       "      <td>36</td>\n",
       "    </tr>\n",
       "    <tr>\n",
       "      <th>9</th>\n",
       "      <td>2013</td>\n",
       "      <td>440</td>\n",
       "      <td>Team Fortress 2</td>\n",
       "      <td>938</td>\n",
       "    </tr>\n",
       "    <tr>\n",
       "      <th>10</th>\n",
       "      <td>2013</td>\n",
       "      <td>730</td>\n",
       "      <td>Counter-Strike: Global Offensive</td>\n",
       "      <td>708</td>\n",
       "    </tr>\n",
       "    <tr>\n",
       "      <th>11</th>\n",
       "      <td>2013</td>\n",
       "      <td>4000</td>\n",
       "      <td>Garry's Mod</td>\n",
       "      <td>423</td>\n",
       "    </tr>\n",
       "    <tr>\n",
       "      <th>12</th>\n",
       "      <td>2014</td>\n",
       "      <td>440</td>\n",
       "      <td>Team Fortress 2</td>\n",
       "      <td>1397</td>\n",
       "    </tr>\n",
       "    <tr>\n",
       "      <th>13</th>\n",
       "      <td>2014</td>\n",
       "      <td>730</td>\n",
       "      <td>Counter-Strike: Global Offensive</td>\n",
       "      <td>932</td>\n",
       "    </tr>\n",
       "    <tr>\n",
       "      <th>14</th>\n",
       "      <td>2014</td>\n",
       "      <td>4000</td>\n",
       "      <td>Garry's Mod</td>\n",
       "      <td>667</td>\n",
       "    </tr>\n",
       "    <tr>\n",
       "      <th>15</th>\n",
       "      <td>2015</td>\n",
       "      <td>730</td>\n",
       "      <td>Counter-Strike: Global Offensive</td>\n",
       "      <td>1305</td>\n",
       "    </tr>\n",
       "    <tr>\n",
       "      <th>16</th>\n",
       "      <td>2015</td>\n",
       "      <td>440</td>\n",
       "      <td>Team Fortress 2</td>\n",
       "      <td>582</td>\n",
       "    </tr>\n",
       "    <tr>\n",
       "      <th>17</th>\n",
       "      <td>2015</td>\n",
       "      <td>4000</td>\n",
       "      <td>Garry's Mod</td>\n",
       "      <td>294</td>\n",
       "    </tr>\n",
       "  </tbody>\n",
       "</table>\n",
       "</div>"
      ],
      "text/plain": [
       "    year_posted  item_id                          app_name  \\\n",
       "0          2010      440                   Team Fortress 2   \n",
       "1          2010     1250                     Killing Floor   \n",
       "2          2010      630                       Alien Swarm   \n",
       "3          2011      440                   Team Fortress 2   \n",
       "4          2011      620                          Portal 2   \n",
       "5          2011   105600                          Terraria   \n",
       "6          2012      440                   Team Fortress 2   \n",
       "7          2012     4000                       Garry's Mod   \n",
       "8          2012   105600                          Terraria   \n",
       "9          2013      440                   Team Fortress 2   \n",
       "10         2013      730  Counter-Strike: Global Offensive   \n",
       "11         2013     4000                       Garry's Mod   \n",
       "12         2014      440                   Team Fortress 2   \n",
       "13         2014      730  Counter-Strike: Global Offensive   \n",
       "14         2014     4000                       Garry's Mod   \n",
       "15         2015      730  Counter-Strike: Global Offensive   \n",
       "16         2015      440                   Team Fortress 2   \n",
       "17         2015     4000                       Garry's Mod   \n",
       "\n",
       "    recommendation_count  \n",
       "0                     10  \n",
       "1                      6  \n",
       "2                      4  \n",
       "3                     72  \n",
       "4                     24  \n",
       "5                     20  \n",
       "6                    234  \n",
       "7                     36  \n",
       "8                     36  \n",
       "9                    938  \n",
       "10                   708  \n",
       "11                   423  \n",
       "12                  1397  \n",
       "13                   932  \n",
       "14                   667  \n",
       "15                  1305  \n",
       "16                   582  \n",
       "17                   294  "
      ]
     },
     "execution_count": 55,
     "metadata": {},
     "output_type": "execute_result"
    }
   ],
   "source": [
    "df_UsersRecommend = pd.read_csv(\"data2/df_UsersRecommend2_final.csv\")\n",
    "df_UsersRecommend"
   ]
  },
  {
   "cell_type": "code",
   "execution_count": 70,
   "metadata": {},
   "outputs": [],
   "source": [
    "def UsersRecommend( año : int ):\n",
    "    \"\"\"\n",
    "    Funcion que devuelve el top 3 de juegos MÁS recomendados por usuarios para el año dado.\n",
    "    \"\"\"\n",
    "    df_año= df_UsersRecommend[df_UsersRecommend[\"year_posted\"]== año]\n",
    "    if type(año) != int:\n",
    "        return {\"Debes colocar el año en entero, Ejemplo:2012\"}\n",
    "    if año < df_UsersRecommend[\"year_posted\"].min() or año > df_UsersRecommend[\"year_posted\"].max():\n",
    "        return {\"Año no encontrado\"}\n",
    "    df_ordenado_recomendacion = df_año.sort_values(by=\"recommendation_count\", ascending=False)\n",
    "    top_3_juegos = df_ordenado_recomendacion.head(3)[[\"app_name\",\"recommendation_count\"]]\n",
    "    result3 ={\n",
    "        \"Año\": año,\n",
    "        \"Top 3 Juegos Más Recomendados\": top_3_juegos.to_dict(orient=\"records\")\n",
    "    }\n",
    "    return result3"
   ]
  },
  {
   "cell_type": "code",
   "execution_count": 71,
   "metadata": {},
   "outputs": [
    {
     "data": {
      "text/plain": [
       "{'Año': 2015,\n",
       " 'Top 3 Juegos Más Recomendados': [{'app_name': 'Counter-Strike: Global Offensive',\n",
       "   'recommendation_count': 1305},\n",
       "  {'app_name': 'Team Fortress 2', 'recommendation_count': 582},\n",
       "  {'app_name': \"Garry's Mod\", 'recommendation_count': 294}]}"
      ]
     },
     "execution_count": 71,
     "metadata": {},
     "output_type": "execute_result"
    }
   ],
   "source": [
    "UsersRecommend(2015)"
   ]
  },
  {
   "cell_type": "markdown",
   "metadata": {},
   "source": [
    "## Funcion UsersWorstDeveloper"
   ]
  },
  {
   "cell_type": "code",
   "execution_count": 58,
   "metadata": {},
   "outputs": [
    {
     "data": {
      "text/html": [
       "<div>\n",
       "<style scoped>\n",
       "    .dataframe tbody tr th:only-of-type {\n",
       "        vertical-align: middle;\n",
       "    }\n",
       "\n",
       "    .dataframe tbody tr th {\n",
       "        vertical-align: top;\n",
       "    }\n",
       "\n",
       "    .dataframe thead th {\n",
       "        text-align: right;\n",
       "    }\n",
       "</style>\n",
       "<table border=\"1\" class=\"dataframe\">\n",
       "  <thead>\n",
       "    <tr style=\"text-align: right;\">\n",
       "      <th></th>\n",
       "      <th>year_posted</th>\n",
       "      <th>developer</th>\n",
       "      <th>recommendation_count</th>\n",
       "    </tr>\n",
       "  </thead>\n",
       "  <tbody>\n",
       "    <tr>\n",
       "      <th>0</th>\n",
       "      <td>2011</td>\n",
       "      <td>Broken Rules</td>\n",
       "      <td>1</td>\n",
       "    </tr>\n",
       "    <tr>\n",
       "      <th>1</th>\n",
       "      <td>2011</td>\n",
       "      <td>Ubisoft Montpellier</td>\n",
       "      <td>1</td>\n",
       "    </tr>\n",
       "    <tr>\n",
       "      <th>2</th>\n",
       "      <td>2011</td>\n",
       "      <td>Valve</td>\n",
       "      <td>1</td>\n",
       "    </tr>\n",
       "    <tr>\n",
       "      <th>3</th>\n",
       "      <td>2012</td>\n",
       "      <td>NeoCoreGames</td>\n",
       "      <td>1</td>\n",
       "    </tr>\n",
       "    <tr>\n",
       "      <th>4</th>\n",
       "      <td>2012</td>\n",
       "      <td>Valve</td>\n",
       "      <td>1</td>\n",
       "    </tr>\n",
       "    <tr>\n",
       "      <th>5</th>\n",
       "      <td>2012</td>\n",
       "      <td>Volition</td>\n",
       "      <td>1</td>\n",
       "    </tr>\n",
       "    <tr>\n",
       "      <th>6</th>\n",
       "      <td>2013</td>\n",
       "      <td>Hello Games</td>\n",
       "      <td>52</td>\n",
       "    </tr>\n",
       "    <tr>\n",
       "      <th>7</th>\n",
       "      <td>2013</td>\n",
       "      <td>Valve</td>\n",
       "      <td>57</td>\n",
       "    </tr>\n",
       "    <tr>\n",
       "      <th>8</th>\n",
       "      <td>2014</td>\n",
       "      <td>Bohemia Interactive</td>\n",
       "      <td>19</td>\n",
       "    </tr>\n",
       "    <tr>\n",
       "      <th>9</th>\n",
       "      <td>2014</td>\n",
       "      <td>Trek Industries, Inc</td>\n",
       "      <td>14</td>\n",
       "    </tr>\n",
       "    <tr>\n",
       "      <th>10</th>\n",
       "      <td>2014</td>\n",
       "      <td>Valve</td>\n",
       "      <td>15</td>\n",
       "    </tr>\n",
       "    <tr>\n",
       "      <th>11</th>\n",
       "      <td>2015</td>\n",
       "      <td>Bohemia Interactive</td>\n",
       "      <td>29</td>\n",
       "    </tr>\n",
       "    <tr>\n",
       "      <th>12</th>\n",
       "      <td>2015</td>\n",
       "      <td>Facepunch Studios</td>\n",
       "      <td>19</td>\n",
       "    </tr>\n",
       "    <tr>\n",
       "      <th>13</th>\n",
       "      <td>2015</td>\n",
       "      <td>Valve</td>\n",
       "      <td>45</td>\n",
       "    </tr>\n",
       "  </tbody>\n",
       "</table>\n",
       "</div>"
      ],
      "text/plain": [
       "    year_posted             developer  recommendation_count\n",
       "0          2011          Broken Rules                     1\n",
       "1          2011   Ubisoft Montpellier                     1\n",
       "2          2011                 Valve                     1\n",
       "3          2012          NeoCoreGames                     1\n",
       "4          2012                 Valve                     1\n",
       "5          2012              Volition                     1\n",
       "6          2013           Hello Games                    52\n",
       "7          2013                 Valve                    57\n",
       "8          2014   Bohemia Interactive                    19\n",
       "9          2014  Trek Industries, Inc                    14\n",
       "10         2014                 Valve                    15\n",
       "11         2015   Bohemia Interactive                    29\n",
       "12         2015     Facepunch Studios                    19\n",
       "13         2015                 Valve                    45"
      ]
     },
     "execution_count": 58,
     "metadata": {},
     "output_type": "execute_result"
    }
   ],
   "source": [
    "df_UsersWorstDeveloper = pd.read_csv(\"data2/df_UsersWorstDeveloper_final1.csv\")\n",
    "df_UsersWorstDeveloper"
   ]
  },
  {
   "cell_type": "code",
   "execution_count": 72,
   "metadata": {},
   "outputs": [],
   "source": [
    "def UsersWorstDeveloper( año : int ):\n",
    "    \"\"\"\n",
    "    Funcion que devuelve el top 3 de desarrolladoras con juegos MENOS \n",
    "    recomendados por usuarios para el año dado.\n",
    "    \"\"\"\n",
    "    df_año2 = df_UsersWorstDeveloper[df_UsersWorstDeveloper[\"year_posted\"]== año]\n",
    "    if type(año) != int:\n",
    "        return {\"Debes colocar el año en entero, Ejemplo:2012\"}\n",
    "    if año < df_UsersRecommend[\"year_posted\"].min() or año > df_UsersRecommend[\"year_posted\"].max():\n",
    "        return {\"Año no encontrado \"}\n",
    "    df_ordenado_recomendacion2 = df_año2.sort_values(by=\"recommendation_count\", ascending=False)\n",
    "    top_3_developers = df_ordenado_recomendacion2.head(3)[[\"developer\",\"recommendation_count\"]]\n",
    "    result4 = {\n",
    "        'Año': año,\n",
    "        'Top 3 Desarrolladoras Menos Recomendadas': top_3_developers.to_dict(orient=\"records\")\n",
    "    }\n",
    "    return result4"
   ]
  },
  {
   "cell_type": "code",
   "execution_count": 73,
   "metadata": {},
   "outputs": [
    {
     "data": {
      "text/plain": [
       "{'Año': 2015,\n",
       " 'Top 3 Desarrolladoras Menos Recomendadas': [{'developer': 'Valve',\n",
       "   'recommendation_count': 45},\n",
       "  {'developer': 'Bohemia Interactive', 'recommendation_count': 29},\n",
       "  {'developer': 'Facepunch Studios', 'recommendation_count': 19}]}"
      ]
     },
     "execution_count": 73,
     "metadata": {},
     "output_type": "execute_result"
    }
   ],
   "source": [
    "UsersWorstDeveloper(2015)"
   ]
  },
  {
   "cell_type": "markdown",
   "metadata": {},
   "source": [
    "## Funciones sentiment_analysis"
   ]
  },
  {
   "cell_type": "code",
   "execution_count": 7,
   "metadata": {},
   "outputs": [
    {
     "data": {
      "text/html": [
       "<div>\n",
       "<style scoped>\n",
       "    .dataframe tbody tr th:only-of-type {\n",
       "        vertical-align: middle;\n",
       "    }\n",
       "\n",
       "    .dataframe tbody tr th {\n",
       "        vertical-align: top;\n",
       "    }\n",
       "\n",
       "    .dataframe thead th {\n",
       "        text-align: right;\n",
       "    }\n",
       "</style>\n",
       "<table border=\"1\" class=\"dataframe\">\n",
       "  <thead>\n",
       "    <tr style=\"text-align: right;\">\n",
       "      <th></th>\n",
       "      <th>developer</th>\n",
       "      <th>sentiment_analysis</th>\n",
       "      <th>sentiment_analysis_count</th>\n",
       "    </tr>\n",
       "  </thead>\n",
       "  <tbody>\n",
       "    <tr>\n",
       "      <th>0</th>\n",
       "      <td>07th Expansion</td>\n",
       "      <td>0</td>\n",
       "      <td>1</td>\n",
       "    </tr>\n",
       "    <tr>\n",
       "      <th>1</th>\n",
       "      <td>07th Expansion</td>\n",
       "      <td>1</td>\n",
       "      <td>2</td>\n",
       "    </tr>\n",
       "    <tr>\n",
       "      <th>2</th>\n",
       "      <td>10th Art Studio,Adventure Productions</td>\n",
       "      <td>0</td>\n",
       "      <td>1</td>\n",
       "    </tr>\n",
       "    <tr>\n",
       "      <th>3</th>\n",
       "      <td>10th Art Studio,Adventure Productions</td>\n",
       "      <td>1</td>\n",
       "      <td>1</td>\n",
       "    </tr>\n",
       "    <tr>\n",
       "      <th>4</th>\n",
       "      <td>10tons Ltd</td>\n",
       "      <td>1</td>\n",
       "      <td>1</td>\n",
       "    </tr>\n",
       "    <tr>\n",
       "      <th>...</th>\n",
       "      <td>...</td>\n",
       "      <td>...</td>\n",
       "      <td>...</td>\n",
       "    </tr>\n",
       "    <tr>\n",
       "      <th>3977</th>\n",
       "      <td>インレ,Inre</td>\n",
       "      <td>1</td>\n",
       "      <td>4</td>\n",
       "    </tr>\n",
       "    <tr>\n",
       "      <th>3978</th>\n",
       "      <td>橘子班</td>\n",
       "      <td>0</td>\n",
       "      <td>1</td>\n",
       "    </tr>\n",
       "    <tr>\n",
       "      <th>3979</th>\n",
       "      <td>橘子班</td>\n",
       "      <td>1</td>\n",
       "      <td>2</td>\n",
       "    </tr>\n",
       "    <tr>\n",
       "      <th>3980</th>\n",
       "      <td>橘子班</td>\n",
       "      <td>2</td>\n",
       "      <td>1</td>\n",
       "    </tr>\n",
       "    <tr>\n",
       "      <th>3981</th>\n",
       "      <td>高考恋爱委员会,橘子班</td>\n",
       "      <td>1</td>\n",
       "      <td>2</td>\n",
       "    </tr>\n",
       "  </tbody>\n",
       "</table>\n",
       "<p>3982 rows × 3 columns</p>\n",
       "</div>"
      ],
      "text/plain": [
       "                                  developer  sentiment_analysis  \\\n",
       "0                            07th Expansion                   0   \n",
       "1                            07th Expansion                   1   \n",
       "2     10th Art Studio,Adventure Productions                   0   \n",
       "3     10th Art Studio,Adventure Productions                   1   \n",
       "4                                10tons Ltd                   1   \n",
       "...                                     ...                 ...   \n",
       "3977                               インレ,Inre                   1   \n",
       "3978                                    橘子班                   0   \n",
       "3979                                    橘子班                   1   \n",
       "3980                                    橘子班                   2   \n",
       "3981                            高考恋爱委员会,橘子班                   1   \n",
       "\n",
       "      sentiment_analysis_count  \n",
       "0                            1  \n",
       "1                            2  \n",
       "2                            1  \n",
       "3                            1  \n",
       "4                            1  \n",
       "...                        ...  \n",
       "3977                         4  \n",
       "3978                         1  \n",
       "3979                         2  \n",
       "3980                         1  \n",
       "3981                         2  \n",
       "\n",
       "[3982 rows x 3 columns]"
      ]
     },
     "execution_count": 7,
     "metadata": {},
     "output_type": "execute_result"
    }
   ],
   "source": [
    "df_Sentiment_Analysis = pd.read_csv(\"data2/df_Sentiment_analysis_final.csv\")\n",
    "df_Sentiment_Analysis"
   ]
  },
  {
   "cell_type": "code",
   "execution_count": 10,
   "metadata": {},
   "outputs": [],
   "source": [
    "def sentiment_analysis( desarrolladora : str ):\n",
    "    \"\"\"\n",
    "    Funcion que devuelve un diccionario con el nombre de la desarrolladora como llave y una lista \n",
    "    con la cantidad total de registros de reseñas de usuarios que se encuentren categorizados con \n",
    "    un análisis de sentimiento como valor.\n",
    "    \"\"\"\n",
    "    if type(desarrolladora) != str:\n",
    "        return \"Debes colocar un developer de tipo str, EJ:'07th Expansion'\"\n",
    "    if len(desarrolladora) == 0:\n",
    "        return \"Debes colocar un developer en tipo String\"\n",
    "    df_developer = df_Sentiment_Analysis[df_Sentiment_Analysis[\"developer\"]== desarrolladora]\n",
    "    sentiment_counts = df_developer.groupby(\"sentiment_analysis\")[\"sentiment_analysis_count\"].sum().to_dict()\n",
    "    sentiment_dicc = {0: \"Negativo\", 1: \"Neutral\", 2: \"Positivo\"}\n",
    "    sentiment_counts = {sentiment_dicc[key]: value for key, value in sentiment_counts.items()}\n",
    "    result50 = {desarrolladora: sentiment_counts}\n",
    "    return result50"
   ]
  },
  {
   "cell_type": "code",
   "execution_count": 11,
   "metadata": {},
   "outputs": [
    {
     "data": {
      "text/plain": [
       "{'Valve': {'Negativo': 1058, 'Neutral': 4070, 'Positivo': 4330}}"
      ]
     },
     "execution_count": 11,
     "metadata": {},
     "output_type": "execute_result"
    }
   ],
   "source": [
    "sentiment_analysis(\"Valve\")"
   ]
  }
 ],
 "metadata": {
  "kernelspec": {
   "display_name": "Python 3",
   "language": "python",
   "name": "python3"
  },
  "language_info": {
   "codemirror_mode": {
    "name": "ipython",
    "version": 3
   },
   "file_extension": ".py",
   "mimetype": "text/x-python",
   "name": "python",
   "nbconvert_exporter": "python",
   "pygments_lexer": "ipython3",
   "version": "3.11.6"
  }
 },
 "nbformat": 4,
 "nbformat_minor": 2
}
