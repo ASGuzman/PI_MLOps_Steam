{
 "cells": [
  {
   "cell_type": "markdown",
   "metadata": {},
   "source": [
    "## Creacion de DataFrames auxiliares"
   ]
  },
  {
   "cell_type": "markdown",
   "metadata": {},
   "source": [
    "En este notebook vamos a crear los data frames auxiliares que tendremos que usar para las funciones que vamos a desarrollar "
   ]
  },
  {
   "cell_type": "markdown",
   "metadata": {},
   "source": [
    "### Cargamos las librerias necesarias"
   ]
  },
  {
   "cell_type": "code",
   "execution_count": 1,
   "metadata": {},
   "outputs": [],
   "source": [
    "import pandas as pd\n",
    "import pyarrow as pa\n",
    "import pyarrow.parquet as pq\n",
    "import warnings\n",
    "warnings.filterwarnings(\"ignore\")"
   ]
  },
  {
   "cell_type": "markdown",
   "metadata": {},
   "source": [
    "### Cargamos los CSV necesarios para extraer la informacion necesaria"
   ]
  },
  {
   "cell_type": "code",
   "execution_count": 4,
   "metadata": {},
   "outputs": [],
   "source": [
    "df_reviews = pd.read_csv(\"data2/user_reviews_limpio2.csv\", encoding=\"utf-8\")\n",
    "df_output = pd.read_csv(\"data2/output_steam_games_limpio.csv\", encoding=\"utf-8\")\n",
    "df_items = pd.read_csv(\"data2/user_items_limpio.csv\", encoding=\"utf-8\")"
   ]
  },
  {
   "cell_type": "code",
   "execution_count": 5,
   "metadata": {},
   "outputs": [
    {
     "data": {
      "text/plain": [
       "Index(['user_id', 'items_count', 'steam_id', 'item_id', 'item_name',\n",
       "       'playtime_forever'],\n",
       "      dtype='object')"
      ]
     },
     "execution_count": 5,
     "metadata": {},
     "output_type": "execute_result"
    }
   ],
   "source": [
    "df_items.columns"
   ]
  },
  {
   "cell_type": "code",
   "execution_count": 20,
   "metadata": {},
   "outputs": [
    {
     "data": {
      "text/plain": [
       "(3002801, 6)"
      ]
     },
     "execution_count": 20,
     "metadata": {},
     "output_type": "execute_result"
    }
   ],
   "source": [
    "df_items.shape"
   ]
  },
  {
   "cell_type": "code",
   "execution_count": 6,
   "metadata": {},
   "outputs": [
    {
     "data": {
      "text/plain": [
       "Index(['user_id', 'user_url', 'posted', 'item_id', 'helpful', 'recommend',\n",
       "       'review'],\n",
       "      dtype='object')"
      ]
     },
     "execution_count": 6,
     "metadata": {},
     "output_type": "execute_result"
    }
   ],
   "source": [
    "df_reviews.columns"
   ]
  },
  {
   "cell_type": "code",
   "execution_count": 16,
   "metadata": {},
   "outputs": [
    {
     "data": {
      "text/plain": [
       "Index(['genres', 'app_name', 'title', 'early_access', 'item_id', 'developer',\n",
       "       'price_number', 'release_year'],\n",
       "      dtype='object')"
      ]
     },
     "execution_count": 16,
     "metadata": {},
     "output_type": "execute_result"
    }
   ],
   "source": [
    "df_output.columns"
   ]
  },
  {
   "cell_type": "code",
   "execution_count": 19,
   "metadata": {},
   "outputs": [
    {
     "data": {
      "text/plain": [
       "(70701, 8)"
      ]
     },
     "execution_count": 19,
     "metadata": {},
     "output_type": "execute_result"
    }
   ],
   "source": [
    "df_output.shape"
   ]
  },
  {
   "cell_type": "code",
   "execution_count": 15,
   "metadata": {},
   "outputs": [],
   "source": [
    "df_output.rename(columns={\"id\":\"item_id\"}, inplace=True)"
   ]
  },
  {
   "cell_type": "markdown",
   "metadata": {},
   "source": [
    "### Funcion PlayTimeGenre\n",
    "En este caso nos piden una funcion que devuelva el año con mas horas jugadas para un genero especificado, por lo que seran necesarias las columnas Genre y Release_year de df_output y la columna playtime_forever de df_items"
   ]
  },
  {
   "cell_type": "code",
   "execution_count": 18,
   "metadata": {},
   "outputs": [
    {
     "data": {
      "text/html": [
       "<div>\n",
       "<style scoped>\n",
       "    .dataframe tbody tr th:only-of-type {\n",
       "        vertical-align: middle;\n",
       "    }\n",
       "\n",
       "    .dataframe tbody tr th {\n",
       "        vertical-align: top;\n",
       "    }\n",
       "\n",
       "    .dataframe thead th {\n",
       "        text-align: right;\n",
       "    }\n",
       "</style>\n",
       "<table border=\"1\" class=\"dataframe\">\n",
       "  <thead>\n",
       "    <tr style=\"text-align: right;\">\n",
       "      <th></th>\n",
       "      <th>genres</th>\n",
       "      <th>release_year</th>\n",
       "      <th>item_id</th>\n",
       "      <th>playtime_forever</th>\n",
       "    </tr>\n",
       "  </thead>\n",
       "  <tbody>\n",
       "    <tr>\n",
       "      <th>0</th>\n",
       "      <td>Action</td>\n",
       "      <td>1997</td>\n",
       "      <td>282010</td>\n",
       "      <td>5.0</td>\n",
       "    </tr>\n",
       "    <tr>\n",
       "      <th>1</th>\n",
       "      <td>Action</td>\n",
       "      <td>1997</td>\n",
       "      <td>282010</td>\n",
       "      <td>0.0</td>\n",
       "    </tr>\n",
       "    <tr>\n",
       "      <th>2</th>\n",
       "      <td>Action</td>\n",
       "      <td>1997</td>\n",
       "      <td>282010</td>\n",
       "      <td>0.0</td>\n",
       "    </tr>\n",
       "    <tr>\n",
       "      <th>3</th>\n",
       "      <td>Action</td>\n",
       "      <td>1997</td>\n",
       "      <td>282010</td>\n",
       "      <td>0.0</td>\n",
       "    </tr>\n",
       "    <tr>\n",
       "      <th>4</th>\n",
       "      <td>Action</td>\n",
       "      <td>1997</td>\n",
       "      <td>282010</td>\n",
       "      <td>13.0</td>\n",
       "    </tr>\n",
       "    <tr>\n",
       "      <th>...</th>\n",
       "      <td>...</td>\n",
       "      <td>...</td>\n",
       "      <td>...</td>\n",
       "      <td>...</td>\n",
       "    </tr>\n",
       "    <tr>\n",
       "      <th>6686478</th>\n",
       "      <td>Action</td>\n",
       "      <td>2004</td>\n",
       "      <td>13230</td>\n",
       "      <td>430.0</td>\n",
       "    </tr>\n",
       "    <tr>\n",
       "      <th>6686479</th>\n",
       "      <td>Action</td>\n",
       "      <td>2004</td>\n",
       "      <td>13230</td>\n",
       "      <td>4.0</td>\n",
       "    </tr>\n",
       "    <tr>\n",
       "      <th>6686480</th>\n",
       "      <td>Action</td>\n",
       "      <td>2004</td>\n",
       "      <td>13230</td>\n",
       "      <td>99.0</td>\n",
       "    </tr>\n",
       "    <tr>\n",
       "      <th>6686481</th>\n",
       "      <td>Action</td>\n",
       "      <td>2004</td>\n",
       "      <td>13230</td>\n",
       "      <td>0.0</td>\n",
       "    </tr>\n",
       "    <tr>\n",
       "      <th>6686482</th>\n",
       "      <td>Action</td>\n",
       "      <td>2004</td>\n",
       "      <td>13230</td>\n",
       "      <td>0.0</td>\n",
       "    </tr>\n",
       "  </tbody>\n",
       "</table>\n",
       "<p>6686483 rows × 4 columns</p>\n",
       "</div>"
      ],
      "text/plain": [
       "         genres  release_year  item_id  playtime_forever\n",
       "0        Action          1997   282010               5.0\n",
       "1        Action          1997   282010               0.0\n",
       "2        Action          1997   282010               0.0\n",
       "3        Action          1997   282010               0.0\n",
       "4        Action          1997   282010              13.0\n",
       "...         ...           ...      ...               ...\n",
       "6686478  Action          2004    13230             430.0\n",
       "6686479  Action          2004    13230               4.0\n",
       "6686480  Action          2004    13230              99.0\n",
       "6686481  Action          2004    13230               0.0\n",
       "6686482  Action          2004    13230               0.0\n",
       "\n",
       "[6686483 rows x 4 columns]"
      ]
     },
     "execution_count": 18,
     "metadata": {},
     "output_type": "execute_result"
    }
   ],
   "source": [
    "df_output2 = df_output[[\"genres\", \"release_year\",\"item_id\"]]\n",
    "df_items2 = df_items[[\"playtime_forever\", \"item_id\"]]\n",
    "df_PlayTimeGenre = pd.merge(df_output2, df_items2, on='item_id')\n",
    "df_PlayTimeGenre"
   ]
  },
  {
   "cell_type": "code",
   "execution_count": 21,
   "metadata": {},
   "outputs": [
    {
     "name": "stdout",
     "output_type": "stream",
     "text": [
      "Se guardó el archivo data2/df_PlayTimeGenre.csv\n"
     ]
    }
   ],
   "source": [
    "archivo_limpio = \"data2/df_PlayTimeGenre.csv\"\n",
    "df_PlayTimeGenre.to_csv(archivo_limpio, index=False, encoding=\"utf-8\")\n",
    "print(f\"Se guardó el archivo {archivo_limpio}\")"
   ]
  },
  {
   "cell_type": "code",
   "execution_count": 22,
   "metadata": {},
   "outputs": [
    {
     "name": "stdout",
     "output_type": "stream",
     "text": [
      "Se guardó el archivo Datasets/df_PlayTimeGenre.parquet\n"
     ]
    }
   ],
   "source": [
    "archivo_limpio2 = \"Datasets/df_PlayTimeGenre.parquet\"\n",
    "df_PlayTimeGenre.to_parquet(archivo_limpio2, index=False)\n",
    "print(f\"Se guardó el archivo {archivo_limpio2}\")"
   ]
  },
  {
   "cell_type": "markdown",
   "metadata": {},
   "source": [
    "### Funcion UserForGenre\n",
    "En este caso nos piden una funcion que devuelva el usuario que acumula más horas jugadas para el género dado y una lista de la acumulación de horas jugadas por año, por lo que seran necesarias las columnas  Genre y Release_year de df_output y las columnas playtime_forever y user_id de df_items"
   ]
  },
  {
   "cell_type": "code",
   "execution_count": null,
   "metadata": {},
   "outputs": [],
   "source": []
  },
  {
   "cell_type": "markdown",
   "metadata": {},
   "source": [
    "### Funcion UsersRecommend\n",
    "En este caso nos piden una funcion que devuelve el top 3 de juegos MÁS recomendados por usuarios para el año dado, por lo que seran necesarias la columna Release_year de df_output y la columna item_name de df_items y por ultimo la columna recommend de df_reviews"
   ]
  },
  {
   "cell_type": "markdown",
   "metadata": {},
   "source": [
    "### Funcion UsersWorstDeveloper\n",
    "En este caso nos piden una funcion que devuelve el top 3 de juegos MÁS recomendados por usuarios para el año dado, por lo que seran necesarias la columna Release_year de df_output y la columna item_name de df_items y por ultimo la columna recommend de df_reviews"
   ]
  },
  {
   "cell_type": "markdown",
   "metadata": {},
   "source": [
    "### Funcion UsersWorstDeveloper\n",
    "En este caso nos piden una funcion que devuelve el top 3 de desarrolladoras con juegos MENOS recomendados por usuarios para el año dado, por lo que seran necesarias las columnas Release_year y Developer de df_output y la columna item_name de df_items y por ultimo la columna recommend de df_reviews"
   ]
  }
 ],
 "metadata": {
  "kernelspec": {
   "display_name": "Python 3",
   "language": "python",
   "name": "python3"
  },
  "language_info": {
   "codemirror_mode": {
    "name": "ipython",
    "version": 3
   },
   "file_extension": ".py",
   "mimetype": "text/x-python",
   "name": "python",
   "nbconvert_exporter": "python",
   "pygments_lexer": "ipython3",
   "version": "3.11.6"
  }
 },
 "nbformat": 4,
 "nbformat_minor": 2
}
